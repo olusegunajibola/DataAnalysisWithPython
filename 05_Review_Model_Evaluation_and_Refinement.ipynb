{
  "cells": [
    {
      "cell_type": "markdown",
      "metadata": {
        "id": "view-in-github",
        "colab_type": "text"
      },
      "source": [
        "<a href=\"https://colab.research.google.com/github/olusegunajibola/DataAnalysisWithPython/blob/main/05_Review_Model_Evaluation_and_Refinement.ipynb\" target=\"_parent\"><img src=\"https://colab.research.google.com/assets/colab-badge.svg\" alt=\"Open In Colab\"/></a>"
      ]
    },
    {
      "cell_type": "markdown",
      "metadata": {
        "id": "FtA4tZqHWCJn"
      },
      "source": [
        "<center>\n",
        "    <img src=\"https://cf-courses-data.s3.us.cloud-object-storage.appdomain.cloud/IBMDeveloperSkillsNetwork-DA0101EN-SkillsNetwork/labs/Module%205/images/IDSNlogo.png\" width=\"300\" alt=\"cognitiveclass.ai logo\"  />\n",
        "</center>\n",
        "\n",
        "# Model Evaluation and Refinement\n",
        "\n",
        "Estimated time needed: **30** minutes\n",
        "\n",
        "## Objectives\n",
        "\n",
        "After completing this lab you will be able to:\n",
        "\n",
        "*   Evaluate and refine prediction models\n"
      ]
    },
    {
      "cell_type": "markdown",
      "metadata": {
        "id": "N1kz-5t6WCJv"
      },
      "source": [
        "<h2>Table of Contents</h2>\n",
        "<ul>\n",
        "    <li><a href=\"https://#ref1\">Model Evaluation </a></li>\n",
        "    <li><a href=\"https://#ref2\">Over-fitting, Under-fitting and Model Selection </a></li>\n",
        "    <li><a href=\"https://#ref3\">Ridge Regression </a></li>\n",
        "    <li><a href=\"https://#ref4\">Grid Search</a></li>\n",
        "</ul>\n"
      ]
    },
    {
      "cell_type": "markdown",
      "metadata": {
        "id": "lKuATm6BWCJy"
      },
      "source": [
        "This dataset was hosted on IBM Cloud object. Click <a href=\"https://cocl.us/DA101EN_object_storage?utm_medium=Exinfluencer&utm_source=Exinfluencer&utm_content=000026UJ&utm_term=10006555&utm_id=NA-SkillsNetwork-Channel-SkillsNetworkCoursesIBMDeveloperSkillsNetworkDA0101ENSkillsNetwork20235326-2021-01-01\">HERE</a> for free storage.\n"
      ]
    },
    {
      "cell_type": "code",
      "execution_count": 3,
      "metadata": {
        "id": "xWBa12rwWCJz"
      },
      "outputs": [],
      "source": [
        "#install specific version of libraries used in lab\n",
        "#! mamba install pandas==1.3.3 -y\n",
        "#! mamba install numpy=1.21.2 -y\n",
        "#! mamba install sklearn=0.20.1 -y\n",
        "#! mamba install   ipywidgets=7.4.2 -y"
      ]
    },
    {
      "cell_type": "code",
      "source": [
        "%matplotlib inline\n",
        "import matplotlib.pyplot  as plt\n",
        "import seaborn as sns\n",
        "\n",
        "plt.style.use('ggplot')\n",
        "plt.rcParams['figure.figsize'] = 10, 7\n",
        "plt.rcParams['axes.facecolor'] = \"0.92\""
      ],
      "metadata": {
        "id": "L6CQH4wBWLDC"
      },
      "execution_count": 4,
      "outputs": []
    },
    {
      "cell_type": "code",
      "execution_count": 5,
      "metadata": {
        "id": "W4pnaD_rWCJ0"
      },
      "outputs": [],
      "source": [
        "import pandas as pd\n",
        "import numpy as np\n",
        "\n",
        "# Import clean data \n",
        "path = 'https://cf-courses-data.s3.us.cloud-object-storage.appdomain.cloud/IBMDeveloperSkillsNetwork-DA0101EN-SkillsNetwork/labs/Data%20files/module_5_auto.csv'\n",
        "df2 = pd.read_csv(path)"
      ]
    },
    {
      "cell_type": "code",
      "source": [
        "df2.columns\n",
        "# len(df2.columns)"
      ],
      "metadata": {
        "colab": {
          "base_uri": "https://localhost:8080/"
        },
        "id": "b__RWaXMHgNZ",
        "outputId": "66aefd9d-2145-46c8-d76e-ccda68248451"
      },
      "execution_count": 6,
      "outputs": [
        {
          "output_type": "execute_result",
          "data": {
            "text/plain": [
              "Index(['Unnamed: 0', 'Unnamed: 0.1', 'symboling', 'normalized-losses', 'make',\n",
              "       'aspiration', 'num-of-doors', 'body-style', 'drive-wheels',\n",
              "       'engine-location', 'wheel-base', 'length', 'width', 'height',\n",
              "       'curb-weight', 'engine-type', 'num-of-cylinders', 'engine-size',\n",
              "       'fuel-system', 'bore', 'stroke', 'compression-ratio', 'horsepower',\n",
              "       'peak-rpm', 'city-mpg', 'highway-mpg', 'price', 'city-L/100km',\n",
              "       'horsepower-binned', 'diesel', 'gas'],\n",
              "      dtype='object')"
            ]
          },
          "metadata": {},
          "execution_count": 6
        }
      ]
    },
    {
      "cell_type": "code",
      "execution_count": 7,
      "metadata": {
        "id": "i_JvL8RzWCJ1"
      },
      "outputs": [],
      "source": [
        "# df2.to_csv('module_5_auto.csv')"
      ]
    },
    {
      "cell_type": "markdown",
      "metadata": {
        "id": "Zt4kpV_4WCJ2"
      },
      "source": [
        "First, let's only use numeric data:\n"
      ]
    },
    {
      "cell_type": "code",
      "execution_count": 8,
      "metadata": {
        "id": "wW5ybVKXWCJ3",
        "colab": {
          "base_uri": "https://localhost:8080/",
          "height": 297
        },
        "outputId": "89ff8c8a-12db-4fdd-9379-bad10690cc70"
      },
      "outputs": [
        {
          "output_type": "execute_result",
          "data": {
            "text/plain": [
              "   Unnamed: 0  Unnamed: 0.1  symboling  normalized-losses  wheel-base  \\\n",
              "0           0             0          3                122        88.6   \n",
              "1           1             1          3                122        88.6   \n",
              "2           2             2          1                122        94.5   \n",
              "3           3             3          2                164        99.8   \n",
              "4           4             4          2                164        99.4   \n",
              "\n",
              "     length     width  height  curb-weight  engine-size  ...  stroke  \\\n",
              "0  0.811148  0.890278    48.8         2548          130  ...    2.68   \n",
              "1  0.811148  0.890278    48.8         2548          130  ...    2.68   \n",
              "2  0.822681  0.909722    52.4         2823          152  ...    3.47   \n",
              "3  0.848630  0.919444    54.3         2337          109  ...    3.40   \n",
              "4  0.848630  0.922222    54.3         2824          136  ...    3.40   \n",
              "\n",
              "   compression-ratio  horsepower  peak-rpm  city-mpg  highway-mpg    price  \\\n",
              "0                9.0       111.0    5000.0        21           27  13495.0   \n",
              "1                9.0       111.0    5000.0        21           27  16500.0   \n",
              "2                9.0       154.0    5000.0        19           26  16500.0   \n",
              "3               10.0       102.0    5500.0        24           30  13950.0   \n",
              "4                8.0       115.0    5500.0        18           22  17450.0   \n",
              "\n",
              "   city-L/100km  diesel  gas  \n",
              "0     11.190476       0    1  \n",
              "1     11.190476       0    1  \n",
              "2     12.368421       0    1  \n",
              "3      9.791667       0    1  \n",
              "4     13.055556       0    1  \n",
              "\n",
              "[5 rows x 21 columns]"
            ],
            "text/html": [
              "\n",
              "  <div id=\"df-47e9e33d-b63e-44a2-b873-e7f38cf7a6fb\">\n",
              "    <div class=\"colab-df-container\">\n",
              "      <div>\n",
              "<style scoped>\n",
              "    .dataframe tbody tr th:only-of-type {\n",
              "        vertical-align: middle;\n",
              "    }\n",
              "\n",
              "    .dataframe tbody tr th {\n",
              "        vertical-align: top;\n",
              "    }\n",
              "\n",
              "    .dataframe thead th {\n",
              "        text-align: right;\n",
              "    }\n",
              "</style>\n",
              "<table border=\"1\" class=\"dataframe\">\n",
              "  <thead>\n",
              "    <tr style=\"text-align: right;\">\n",
              "      <th></th>\n",
              "      <th>Unnamed: 0</th>\n",
              "      <th>Unnamed: 0.1</th>\n",
              "      <th>symboling</th>\n",
              "      <th>normalized-losses</th>\n",
              "      <th>wheel-base</th>\n",
              "      <th>length</th>\n",
              "      <th>width</th>\n",
              "      <th>height</th>\n",
              "      <th>curb-weight</th>\n",
              "      <th>engine-size</th>\n",
              "      <th>...</th>\n",
              "      <th>stroke</th>\n",
              "      <th>compression-ratio</th>\n",
              "      <th>horsepower</th>\n",
              "      <th>peak-rpm</th>\n",
              "      <th>city-mpg</th>\n",
              "      <th>highway-mpg</th>\n",
              "      <th>price</th>\n",
              "      <th>city-L/100km</th>\n",
              "      <th>diesel</th>\n",
              "      <th>gas</th>\n",
              "    </tr>\n",
              "  </thead>\n",
              "  <tbody>\n",
              "    <tr>\n",
              "      <th>0</th>\n",
              "      <td>0</td>\n",
              "      <td>0</td>\n",
              "      <td>3</td>\n",
              "      <td>122</td>\n",
              "      <td>88.6</td>\n",
              "      <td>0.811148</td>\n",
              "      <td>0.890278</td>\n",
              "      <td>48.8</td>\n",
              "      <td>2548</td>\n",
              "      <td>130</td>\n",
              "      <td>...</td>\n",
              "      <td>2.68</td>\n",
              "      <td>9.0</td>\n",
              "      <td>111.0</td>\n",
              "      <td>5000.0</td>\n",
              "      <td>21</td>\n",
              "      <td>27</td>\n",
              "      <td>13495.0</td>\n",
              "      <td>11.190476</td>\n",
              "      <td>0</td>\n",
              "      <td>1</td>\n",
              "    </tr>\n",
              "    <tr>\n",
              "      <th>1</th>\n",
              "      <td>1</td>\n",
              "      <td>1</td>\n",
              "      <td>3</td>\n",
              "      <td>122</td>\n",
              "      <td>88.6</td>\n",
              "      <td>0.811148</td>\n",
              "      <td>0.890278</td>\n",
              "      <td>48.8</td>\n",
              "      <td>2548</td>\n",
              "      <td>130</td>\n",
              "      <td>...</td>\n",
              "      <td>2.68</td>\n",
              "      <td>9.0</td>\n",
              "      <td>111.0</td>\n",
              "      <td>5000.0</td>\n",
              "      <td>21</td>\n",
              "      <td>27</td>\n",
              "      <td>16500.0</td>\n",
              "      <td>11.190476</td>\n",
              "      <td>0</td>\n",
              "      <td>1</td>\n",
              "    </tr>\n",
              "    <tr>\n",
              "      <th>2</th>\n",
              "      <td>2</td>\n",
              "      <td>2</td>\n",
              "      <td>1</td>\n",
              "      <td>122</td>\n",
              "      <td>94.5</td>\n",
              "      <td>0.822681</td>\n",
              "      <td>0.909722</td>\n",
              "      <td>52.4</td>\n",
              "      <td>2823</td>\n",
              "      <td>152</td>\n",
              "      <td>...</td>\n",
              "      <td>3.47</td>\n",
              "      <td>9.0</td>\n",
              "      <td>154.0</td>\n",
              "      <td>5000.0</td>\n",
              "      <td>19</td>\n",
              "      <td>26</td>\n",
              "      <td>16500.0</td>\n",
              "      <td>12.368421</td>\n",
              "      <td>0</td>\n",
              "      <td>1</td>\n",
              "    </tr>\n",
              "    <tr>\n",
              "      <th>3</th>\n",
              "      <td>3</td>\n",
              "      <td>3</td>\n",
              "      <td>2</td>\n",
              "      <td>164</td>\n",
              "      <td>99.8</td>\n",
              "      <td>0.848630</td>\n",
              "      <td>0.919444</td>\n",
              "      <td>54.3</td>\n",
              "      <td>2337</td>\n",
              "      <td>109</td>\n",
              "      <td>...</td>\n",
              "      <td>3.40</td>\n",
              "      <td>10.0</td>\n",
              "      <td>102.0</td>\n",
              "      <td>5500.0</td>\n",
              "      <td>24</td>\n",
              "      <td>30</td>\n",
              "      <td>13950.0</td>\n",
              "      <td>9.791667</td>\n",
              "      <td>0</td>\n",
              "      <td>1</td>\n",
              "    </tr>\n",
              "    <tr>\n",
              "      <th>4</th>\n",
              "      <td>4</td>\n",
              "      <td>4</td>\n",
              "      <td>2</td>\n",
              "      <td>164</td>\n",
              "      <td>99.4</td>\n",
              "      <td>0.848630</td>\n",
              "      <td>0.922222</td>\n",
              "      <td>54.3</td>\n",
              "      <td>2824</td>\n",
              "      <td>136</td>\n",
              "      <td>...</td>\n",
              "      <td>3.40</td>\n",
              "      <td>8.0</td>\n",
              "      <td>115.0</td>\n",
              "      <td>5500.0</td>\n",
              "      <td>18</td>\n",
              "      <td>22</td>\n",
              "      <td>17450.0</td>\n",
              "      <td>13.055556</td>\n",
              "      <td>0</td>\n",
              "      <td>1</td>\n",
              "    </tr>\n",
              "  </tbody>\n",
              "</table>\n",
              "<p>5 rows × 21 columns</p>\n",
              "</div>\n",
              "      <button class=\"colab-df-convert\" onclick=\"convertToInteractive('df-47e9e33d-b63e-44a2-b873-e7f38cf7a6fb')\"\n",
              "              title=\"Convert this dataframe to an interactive table.\"\n",
              "              style=\"display:none;\">\n",
              "        \n",
              "  <svg xmlns=\"http://www.w3.org/2000/svg\" height=\"24px\"viewBox=\"0 0 24 24\"\n",
              "       width=\"24px\">\n",
              "    <path d=\"M0 0h24v24H0V0z\" fill=\"none\"/>\n",
              "    <path d=\"M18.56 5.44l.94 2.06.94-2.06 2.06-.94-2.06-.94-.94-2.06-.94 2.06-2.06.94zm-11 1L8.5 8.5l.94-2.06 2.06-.94-2.06-.94L8.5 2.5l-.94 2.06-2.06.94zm10 10l.94 2.06.94-2.06 2.06-.94-2.06-.94-.94-2.06-.94 2.06-2.06.94z\"/><path d=\"M17.41 7.96l-1.37-1.37c-.4-.4-.92-.59-1.43-.59-.52 0-1.04.2-1.43.59L10.3 9.45l-7.72 7.72c-.78.78-.78 2.05 0 2.83L4 21.41c.39.39.9.59 1.41.59.51 0 1.02-.2 1.41-.59l7.78-7.78 2.81-2.81c.8-.78.8-2.07 0-2.86zM5.41 20L4 18.59l7.72-7.72 1.47 1.35L5.41 20z\"/>\n",
              "  </svg>\n",
              "      </button>\n",
              "      \n",
              "  <style>\n",
              "    .colab-df-container {\n",
              "      display:flex;\n",
              "      flex-wrap:wrap;\n",
              "      gap: 12px;\n",
              "    }\n",
              "\n",
              "    .colab-df-convert {\n",
              "      background-color: #E8F0FE;\n",
              "      border: none;\n",
              "      border-radius: 50%;\n",
              "      cursor: pointer;\n",
              "      display: none;\n",
              "      fill: #1967D2;\n",
              "      height: 32px;\n",
              "      padding: 0 0 0 0;\n",
              "      width: 32px;\n",
              "    }\n",
              "\n",
              "    .colab-df-convert:hover {\n",
              "      background-color: #E2EBFA;\n",
              "      box-shadow: 0px 1px 2px rgba(60, 64, 67, 0.3), 0px 1px 3px 1px rgba(60, 64, 67, 0.15);\n",
              "      fill: #174EA6;\n",
              "    }\n",
              "\n",
              "    [theme=dark] .colab-df-convert {\n",
              "      background-color: #3B4455;\n",
              "      fill: #D2E3FC;\n",
              "    }\n",
              "\n",
              "    [theme=dark] .colab-df-convert:hover {\n",
              "      background-color: #434B5C;\n",
              "      box-shadow: 0px 1px 3px 1px rgba(0, 0, 0, 0.15);\n",
              "      filter: drop-shadow(0px 1px 2px rgba(0, 0, 0, 0.3));\n",
              "      fill: #FFFFFF;\n",
              "    }\n",
              "  </style>\n",
              "\n",
              "      <script>\n",
              "        const buttonEl =\n",
              "          document.querySelector('#df-47e9e33d-b63e-44a2-b873-e7f38cf7a6fb button.colab-df-convert');\n",
              "        buttonEl.style.display =\n",
              "          google.colab.kernel.accessAllowed ? 'block' : 'none';\n",
              "\n",
              "        async function convertToInteractive(key) {\n",
              "          const element = document.querySelector('#df-47e9e33d-b63e-44a2-b873-e7f38cf7a6fb');\n",
              "          const dataTable =\n",
              "            await google.colab.kernel.invokeFunction('convertToInteractive',\n",
              "                                                     [key], {});\n",
              "          if (!dataTable) return;\n",
              "\n",
              "          const docLinkHtml = 'Like what you see? Visit the ' +\n",
              "            '<a target=\"_blank\" href=https://colab.research.google.com/notebooks/data_table.ipynb>data table notebook</a>'\n",
              "            + ' to learn more about interactive tables.';\n",
              "          element.innerHTML = '';\n",
              "          dataTable['output_type'] = 'display_data';\n",
              "          await google.colab.output.renderOutput(dataTable, element);\n",
              "          const docLink = document.createElement('div');\n",
              "          docLink.innerHTML = docLinkHtml;\n",
              "          element.appendChild(docLink);\n",
              "        }\n",
              "      </script>\n",
              "    </div>\n",
              "  </div>\n",
              "  "
            ]
          },
          "metadata": {},
          "execution_count": 8
        }
      ],
      "source": [
        "df=df2._get_numeric_data()\n",
        "df.head()"
      ]
    },
    {
      "cell_type": "code",
      "source": [
        "len(df.columns)\n",
        "df.columns"
      ],
      "metadata": {
        "colab": {
          "base_uri": "https://localhost:8080/"
        },
        "id": "A_gJCRC0Hm14",
        "outputId": "afc29177-a0af-4795-e4bf-9683250a42d0"
      },
      "execution_count": 9,
      "outputs": [
        {
          "output_type": "execute_result",
          "data": {
            "text/plain": [
              "Index(['Unnamed: 0', 'Unnamed: 0.1', 'symboling', 'normalized-losses',\n",
              "       'wheel-base', 'length', 'width', 'height', 'curb-weight', 'engine-size',\n",
              "       'bore', 'stroke', 'compression-ratio', 'horsepower', 'peak-rpm',\n",
              "       'city-mpg', 'highway-mpg', 'price', 'city-L/100km', 'diesel', 'gas'],\n",
              "      dtype='object')"
            ]
          },
          "metadata": {},
          "execution_count": 9
        }
      ]
    },
    {
      "cell_type": "markdown",
      "metadata": {
        "id": "gXxgP-ViWCJ4"
      },
      "source": [
        "Libraries for plotting:\n"
      ]
    },
    {
      "cell_type": "code",
      "execution_count": 10,
      "metadata": {
        "id": "7IElp7WNWCJ5"
      },
      "outputs": [],
      "source": [
        "from ipywidgets import interact, interactive, fixed, interact_manual"
      ]
    },
    {
      "cell_type": "markdown",
      "metadata": {
        "id": "nIBTWGKfWCJ5"
      },
      "source": [
        "<h2>Functions for Plotting</h2>\n"
      ]
    },
    {
      "cell_type": "code",
      "execution_count": 39,
      "metadata": {
        "id": "SoTvGTl9WCJ6"
      },
      "outputs": [],
      "source": [
        "def DistributionPlot(RedFunction, BlueFunction, RedName, BlueName, Title):\n",
        "    width = 12\n",
        "    height = 10\n",
        "    plt.figure(figsize=(width, height))\n",
        "\n",
        "    ax1 = sns.distplot(RedFunction, hist=False, color=\"r\", label=RedName)\n",
        "    ax2 = sns.distplot(BlueFunction, hist=False, color=\"b\", label=BlueName, ax=ax1)\n",
        "\n",
        "    plt.title(Title)\n",
        "    plt.xlabel('Price (in dollars)')\n",
        "    plt.ylabel('Proportion of Cars')\n",
        "    plt.legend()\n",
        "    plt.show()\n",
        "    plt.close()"
      ]
    },
    {
      "cell_type": "code",
      "execution_count": 12,
      "metadata": {
        "id": "gmnZmU4cWCJ7"
      },
      "outputs": [],
      "source": [
        "def PollyPlot(xtrain, xtest, y_train, y_test, lr,poly_transform):\n",
        "    width = 12\n",
        "    height = 10\n",
        "    plt.figure(figsize=(width, height))\n",
        "    \n",
        "    \n",
        "    #training data \n",
        "    #testing data \n",
        "    # lr:  linear regression object \n",
        "    #poly_transform:  polynomial transformation object \n",
        " \n",
        "    xmax=max([xtrain.values.max(), xtest.values.max()])\n",
        "\n",
        "    xmin=min([xtrain.values.min(), xtest.values.min()])\n",
        "\n",
        "    x=np.arange(xmin, xmax, 0.1)\n",
        "\n",
        "\n",
        "    plt.plot(xtrain, y_train, 'ro', label='Training Data')\n",
        "    plt.plot(xtest, y_test, 'go', label='Test Data')\n",
        "    plt.plot(x, lr.predict(poly_transform.fit_transform(x.reshape(-1, 1))), label='Predicted Function')\n",
        "    plt.ylim([-10000, 60000])\n",
        "    plt.ylabel('Price')\n",
        "    plt.legend()"
      ]
    },
    {
      "cell_type": "markdown",
      "metadata": {
        "id": "E_Ls1OqcWCJ8"
      },
      "source": [
        "<h2 id=\"ref1\">Part 1: Training and Testing</h2>\n",
        "\n",
        "<p>An important step in testing your model is to split your data into training and testing data. We will place the target data <b>price</b> in a separate dataframe <b>y_data</b>:</p>\n"
      ]
    },
    {
      "cell_type": "code",
      "execution_count": 13,
      "metadata": {
        "id": "9NnNFFrMWCJ9"
      },
      "outputs": [],
      "source": [
        "y_data = df['price']"
      ]
    },
    {
      "cell_type": "markdown",
      "metadata": {
        "id": "bdsu1jlEWCJ-"
      },
      "source": [
        "Drop price data in dataframe **x_data**:\n"
      ]
    },
    {
      "cell_type": "code",
      "execution_count": 14,
      "metadata": {
        "id": "p9CAzy9sWCJ-"
      },
      "outputs": [],
      "source": [
        "x_data=df.drop('price',axis=1)"
      ]
    },
    {
      "cell_type": "markdown",
      "metadata": {
        "id": "8_l_4ykhWCJ_"
      },
      "source": [
        "Now, we randomly split our data into training and testing data using the function <b>train_test_split</b>.\n"
      ]
    },
    {
      "cell_type": "code",
      "execution_count": 15,
      "metadata": {
        "id": "p241nykgWCJ_",
        "colab": {
          "base_uri": "https://localhost:8080/"
        },
        "outputId": "579c3a8a-28fb-403c-de3d-9867c6dc0001"
      },
      "outputs": [
        {
          "output_type": "stream",
          "name": "stdout",
          "text": [
            "number of test samples : 21\n",
            "number of training samples: 180\n"
          ]
        }
      ],
      "source": [
        "from sklearn.model_selection import train_test_split\n",
        "\n",
        "\n",
        "x_train, x_test, y_train, y_test = train_test_split(x_data, y_data, test_size=0.10, random_state=1)\n",
        "\n",
        "\n",
        "print(\"number of test samples :\", x_test.shape[0])\n",
        "print(\"number of training samples:\",x_train.shape[0])\n"
      ]
    },
    {
      "cell_type": "markdown",
      "metadata": {
        "id": "m_w1WKTKWCKA"
      },
      "source": [
        "The <b>test_size</b> parameter sets the proportion of data that is split into the testing set. In the above, the testing set is 10% of the total dataset.\n"
      ]
    },
    {
      "cell_type": "markdown",
      "metadata": {
        "id": "DRruIN0EWCKA"
      },
      "source": [
        "<div class=\"alert alert-danger alertdanger\" style=\"margin-top: 20px\">\n",
        "<h1> Question  #1):</h1>\n",
        "\n",
        "<b>Use the function \"train_test_split\" to split up the dataset such that 40% of the data samples will be utilized for testing. Set the parameter \"random_state\" equal to zero. The output of the function should be the following:  \"x_train1\" , \"x_test1\", \"y_train1\" and  \"y_test1\".</b>\n",
        "\n",
        "</div>\n"
      ]
    },
    {
      "cell_type": "code",
      "execution_count": 16,
      "metadata": {
        "id": "lCF9N74aWCKB",
        "colab": {
          "base_uri": "https://localhost:8080/"
        },
        "outputId": "17d19946-6331-4e85-8d19-84ea84e4df55"
      },
      "outputs": [
        {
          "output_type": "stream",
          "name": "stdout",
          "text": [
            "number of test samples : 81\n",
            "number of training samples: 120\n"
          ]
        }
      ],
      "source": [
        "# Write your code below and press Shift+Enter to execute \n",
        "x_train1, x_test1, y_train1, y_test1 = train_test_split(x_data, y_data, test_size=0.40, random_state=0)\n",
        "\n",
        "print(\"number of test samples :\", x_test1.shape[0])\n",
        "print(\"number of training samples:\",x_train1.shape[0])"
      ]
    },
    {
      "cell_type": "markdown",
      "metadata": {
        "id": "zQU4SlL1WCKB"
      },
      "source": [
        "<details><summary>Click here for the solution</summary>\n",
        "\n",
        "```python\n",
        "x_train1, x_test1, y_train1, y_test1 = train_test_split(x_data, y_data, test_size=0.4, random_state=0) \n",
        "print(\"number of test samples :\", x_test1.shape[0])\n",
        "print(\"number of training samples:\",x_train1.shape[0])\n",
        "```\n",
        "\n",
        "</details>\n"
      ]
    },
    {
      "cell_type": "markdown",
      "metadata": {
        "id": "vjqYkH8KWCKB"
      },
      "source": [
        "Let's import <b>LinearRegression</b> from the module <b>linear_model</b>.\n"
      ]
    },
    {
      "cell_type": "code",
      "execution_count": 17,
      "metadata": {
        "id": "XHCRUAEZWCKC"
      },
      "outputs": [],
      "source": [
        "from sklearn.linear_model import LinearRegression"
      ]
    },
    {
      "cell_type": "markdown",
      "metadata": {
        "id": "eZ4G-X5ZWCKC"
      },
      "source": [
        "We create a Linear Regression object:\n"
      ]
    },
    {
      "cell_type": "code",
      "execution_count": 18,
      "metadata": {
        "id": "t6z6uJMMWCKC"
      },
      "outputs": [],
      "source": [
        "lre=LinearRegression()"
      ]
    },
    {
      "cell_type": "markdown",
      "metadata": {
        "id": "5WtMSvG3WCKD"
      },
      "source": [
        "We fit the model using the feature \"horsepower\":\n"
      ]
    },
    {
      "cell_type": "code",
      "execution_count": 19,
      "metadata": {
        "id": "IL6z06dzWCKD",
        "colab": {
          "base_uri": "https://localhost:8080/"
        },
        "outputId": "97c917cb-7d2b-462e-dd5a-147f6096e228"
      },
      "outputs": [
        {
          "output_type": "execute_result",
          "data": {
            "text/plain": [
              "LinearRegression()"
            ]
          },
          "metadata": {},
          "execution_count": 19
        }
      ],
      "source": [
        "lre.fit(x_train[['horsepower']], y_train)"
      ]
    },
    {
      "cell_type": "markdown",
      "metadata": {
        "id": "ZV5YT-DfWCKD"
      },
      "source": [
        "Let's calculate the R^2 on the test data:\n"
      ]
    },
    {
      "cell_type": "code",
      "execution_count": 20,
      "metadata": {
        "id": "8xaffrWsWCKE",
        "colab": {
          "base_uri": "https://localhost:8080/"
        },
        "outputId": "051004a0-b4bf-4e18-dc1c-b1c244f1eb72"
      },
      "outputs": [
        {
          "output_type": "execute_result",
          "data": {
            "text/plain": [
              "0.36358755750788263"
            ]
          },
          "metadata": {},
          "execution_count": 20
        }
      ],
      "source": [
        "lre.score(x_test[['horsepower']], y_test)"
      ]
    },
    {
      "cell_type": "markdown",
      "metadata": {
        "id": "MWtH8iEJWCKE"
      },
      "source": [
        "We can see the R^2 is much smaller using the test data compared to the training data.\n"
      ]
    },
    {
      "cell_type": "code",
      "execution_count": 21,
      "metadata": {
        "id": "Bt9rY_YDWCKE",
        "colab": {
          "base_uri": "https://localhost:8080/"
        },
        "outputId": "671b1f93-79dd-45a2-bbf7-e3cb5d0abd6e"
      },
      "outputs": [
        {
          "output_type": "execute_result",
          "data": {
            "text/plain": [
              "0.6619724197515104"
            ]
          },
          "metadata": {},
          "execution_count": 21
        }
      ],
      "source": [
        "lre.score(x_train[['horsepower']], y_train)"
      ]
    },
    {
      "cell_type": "markdown",
      "metadata": {
        "id": "f3MShdMWWCKE"
      },
      "source": [
        "<div class=\"alert alert-danger alertdanger\" style=\"margin-top: 20px\">\n",
        "<h1> Question  #2): </h1>\n",
        "<b> \n",
        "Find the R^2  on the test data using 40% of the dataset for testing.\n",
        "</b>\n",
        "</div>\n"
      ]
    },
    {
      "cell_type": "code",
      "execution_count": 22,
      "metadata": {
        "id": "U24W6RviWCKF",
        "colab": {
          "base_uri": "https://localhost:8080/"
        },
        "outputId": "2f51040f-2aef-4150-bb78-0451dcb9a859"
      },
      "outputs": [
        {
          "output_type": "execute_result",
          "data": {
            "text/plain": [
              "0.5754067463583004"
            ]
          },
          "metadata": {},
          "execution_count": 22
        }
      ],
      "source": [
        "# Write your code below and press Shift+Enter to execute \n",
        "lre2=LinearRegression()\n",
        "lre2.fit(x_train1[['horsepower']], y_train1)\n",
        "lre2.score(x_train1[['horsepower']], y_train1)"
      ]
    },
    {
      "cell_type": "code",
      "source": [
        "lre2.score(x_test1[['horsepower']], y_test1)"
      ],
      "metadata": {
        "colab": {
          "base_uri": "https://localhost:8080/"
        },
        "id": "RV10DuVKL_NE",
        "outputId": "a302ae74-0571-4b05-c2c9-a3e1f3277dd2"
      },
      "execution_count": 23,
      "outputs": [
        {
          "output_type": "execute_result",
          "data": {
            "text/plain": [
              "0.7139364665406973"
            ]
          },
          "metadata": {},
          "execution_count": 23
        }
      ]
    },
    {
      "cell_type": "markdown",
      "metadata": {
        "id": "rnE1IWjMWCKF"
      },
      "source": [
        "<details><summary>Click here for the solution</summary>\n",
        "\n",
        "```python\n",
        "x_train1, x_test1, y_train1, y_test1 = train_test_split(x_data, y_data, test_size=0.4, random_state=0)\n",
        "lre.fit(x_train1[['horsepower']],y_train1)\n",
        "lre.score(x_test1[['horsepower']],y_test1)\n",
        "\n",
        "```\n",
        "\n",
        "</details>\n"
      ]
    },
    {
      "cell_type": "markdown",
      "metadata": {
        "id": "Mbd5mYLkWCKF"
      },
      "source": [
        "Sometimes you do not have sufficient testing data; as a result, you may want to perform cross-validation. Let's go over several methods that you can use for cross-validation.\n"
      ]
    },
    {
      "cell_type": "markdown",
      "metadata": {
        "id": "mJPuf_ydWCKF"
      },
      "source": [
        "<h2>Cross-Validation Score</h2>\n"
      ]
    },
    {
      "cell_type": "markdown",
      "metadata": {
        "id": "qeUOa-FEWCKG"
      },
      "source": [
        "Let's import <b>model_selection</b> from the module <b>cross_val_score</b>.\n"
      ]
    },
    {
      "cell_type": "code",
      "execution_count": 24,
      "metadata": {
        "id": "9q7oMyAyWCKG"
      },
      "outputs": [],
      "source": [
        "from sklearn.model_selection import cross_val_score"
      ]
    },
    {
      "cell_type": "markdown",
      "metadata": {
        "id": "OpyQHg25WCKG"
      },
      "source": [
        "We input the object, the feature (\"horsepower\"), and the target data (y_data). The parameter 'cv' determines the number of folds. In this case, it is 4.\n"
      ]
    },
    {
      "cell_type": "code",
      "execution_count": 25,
      "metadata": {
        "id": "FGIrXXBvWCKH"
      },
      "outputs": [],
      "source": [
        "Rcross = cross_val_score(lre, x_data[['horsepower']], y_data, cv=4)"
      ]
    },
    {
      "cell_type": "markdown",
      "metadata": {
        "id": "cJpkpolpWCKH"
      },
      "source": [
        "The default scoring is R^2. Each element in the array has the average R^2 value for the fold:\n"
      ]
    },
    {
      "cell_type": "code",
      "execution_count": 26,
      "metadata": {
        "id": "vEAXZi5pWCKI",
        "colab": {
          "base_uri": "https://localhost:8080/"
        },
        "outputId": "26eefa84-27c6-4eb1-cccc-d9e6bfcc84d2"
      },
      "outputs": [
        {
          "output_type": "execute_result",
          "data": {
            "text/plain": [
              "array([0.7746232 , 0.51716687, 0.74785353, 0.04839605])"
            ]
          },
          "metadata": {},
          "execution_count": 26
        }
      ],
      "source": [
        "Rcross"
      ]
    },
    {
      "cell_type": "markdown",
      "metadata": {
        "id": "LeL479qIWCKI"
      },
      "source": [
        "We can calculate the average and standard deviation of our estimate:\n"
      ]
    },
    {
      "cell_type": "code",
      "execution_count": 27,
      "metadata": {
        "id": "mglZdUPhWCKJ",
        "colab": {
          "base_uri": "https://localhost:8080/"
        },
        "outputId": "018563e8-8691-4c44-c1b3-eb3314b77062"
      },
      "outputs": [
        {
          "output_type": "stream",
          "name": "stdout",
          "text": [
            "The mean of the folds are 0.522009915042119 and the standard deviation is 0.291183944475603\n"
          ]
        }
      ],
      "source": [
        "print(\"The mean of the folds are\", Rcross.mean(), \"and the standard deviation is\" , Rcross.std())"
      ]
    },
    {
      "cell_type": "markdown",
      "metadata": {
        "id": "a-G2u4mqWCKK"
      },
      "source": [
        "We can use negative squared error as a score by setting the parameter  'scoring' metric to 'neg_mean_squared_error'.\n"
      ]
    },
    {
      "cell_type": "code",
      "execution_count": 28,
      "metadata": {
        "id": "luUnpq2VWCKK",
        "colab": {
          "base_uri": "https://localhost:8080/"
        },
        "outputId": "bc84df98-ab18-4dd9-aaba-d392f4217990"
      },
      "outputs": [
        {
          "output_type": "execute_result",
          "data": {
            "text/plain": [
              "array([20254142.84026702, 43745493.2650517 , 12539630.34014931,\n",
              "       17561927.72247591])"
            ]
          },
          "metadata": {},
          "execution_count": 28
        }
      ],
      "source": [
        "-1 * cross_val_score(lre,x_data[['horsepower']], y_data,cv=4,scoring='neg_mean_squared_error')"
      ]
    },
    {
      "cell_type": "markdown",
      "metadata": {
        "id": "KmsdolpnWCKL"
      },
      "source": [
        "<div class=\"alert alert-danger alertdanger\" style=\"margin-top: 20px\">\n",
        "<h1> Question  #3): </h1>\n",
        "<b> \n",
        "Calculate the average R^2 using two folds, then find the average R^2 for the second fold utilizing the \"horsepower\" feature: \n",
        "</b>\n",
        "</div>\n"
      ]
    },
    {
      "cell_type": "code",
      "execution_count": 29,
      "metadata": {
        "id": "Ti71iO09WCKN",
        "colab": {
          "base_uri": "https://localhost:8080/"
        },
        "outputId": "73dd45f8-0b85-445c-870e-ec62125b3acf"
      },
      "outputs": [
        {
          "output_type": "stream",
          "name": "stdout",
          "text": [
            "The mean of the folds are 0.5166761697127429 and the standard deviation is 0.07348004195771385\n"
          ]
        }
      ],
      "source": [
        "# Write your code below and press Shift+Enter to execute \n",
        "Rcross2 = cross_val_score(lre, x_data[['horsepower']], y_data, cv=2)\n",
        "print(\"The mean of the folds are\", Rcross2.mean(), \"and the standard deviation is\" , Rcross2.std())"
      ]
    },
    {
      "cell_type": "markdown",
      "metadata": {
        "id": "nutqGTyoWCKN"
      },
      "source": [
        "<details><summary>Click here for the solution</summary>\n",
        "\n",
        "```python\n",
        "Rc=cross_val_score(lre,x_data[['horsepower']], y_data,cv=2)\n",
        "Rc.mean()\n",
        "\n",
        "```\n",
        "\n",
        "</details>\n"
      ]
    },
    {
      "cell_type": "markdown",
      "metadata": {
        "id": "Bpswil60WCKO"
      },
      "source": [
        "You can also use the function 'cross_val_predict' to predict the output. The function splits up the data into the specified number of folds, with one fold for testing and the other folds are used for training. First, import the function:\n"
      ]
    },
    {
      "cell_type": "code",
      "execution_count": 30,
      "metadata": {
        "id": "m4o0k_V3WCKO"
      },
      "outputs": [],
      "source": [
        "from sklearn.model_selection import cross_val_predict"
      ]
    },
    {
      "cell_type": "markdown",
      "metadata": {
        "id": "2YngXmrcWCKO"
      },
      "source": [
        "We input the object, the feature <b>\"horsepower\"</b>, and the target data <b>y_data</b>. The parameter 'cv' determines the number of folds. In this case, it is 4. We can produce an output:\n"
      ]
    },
    {
      "cell_type": "code",
      "execution_count": 31,
      "metadata": {
        "id": "Y08dpOofWCKP",
        "colab": {
          "base_uri": "https://localhost:8080/"
        },
        "outputId": "cf0c6a8e-4930-4d02-f170-736bdef8eecd"
      },
      "outputs": [
        {
          "output_type": "execute_result",
          "data": {
            "text/plain": [
              "array([14141.63807508, 14141.63807508, 20814.29423473, 12745.03562306,\n",
              "       14762.35027598])"
            ]
          },
          "metadata": {},
          "execution_count": 31
        }
      ],
      "source": [
        "yhat = cross_val_predict(lre,x_data[['horsepower']], y_data,cv=4)\n",
        "yhat[0:5]"
      ]
    },
    {
      "cell_type": "markdown",
      "metadata": {
        "id": "EQVwLCc4WCKP"
      },
      "source": [
        "<h2 id=\"ref2\">Part 2: Overfitting, Underfitting and Model Selection</h2>\n",
        "\n",
        "<p>It turns out that the test data, sometimes referred to as the \"out of sample data\", is a much better measure of how well your model performs in the real world.  One reason for this is overfitting.\n",
        "\n",
        "Let's go over some examples. It turns out these differences are more apparent in Multiple Linear Regression and Polynomial Regression so we will explore overfitting in that context.</p>\n"
      ]
    },
    {
      "cell_type": "markdown",
      "metadata": {
        "id": "OWX2gvV4WCKP"
      },
      "source": [
        "Let's create Multiple Linear Regression objects and train the model using <b>'horsepower'</b>, <b>'curb-weight'</b>, <b>'engine-size'</b> and <b>'highway-mpg'</b> as features.\n"
      ]
    },
    {
      "cell_type": "code",
      "execution_count": 32,
      "metadata": {
        "id": "2drSpYiSWCKP",
        "colab": {
          "base_uri": "https://localhost:8080/"
        },
        "outputId": "7ef2ac5c-1618-47f7-870c-fe6e4022bb00"
      },
      "outputs": [
        {
          "output_type": "execute_result",
          "data": {
            "text/plain": [
              "LinearRegression()"
            ]
          },
          "metadata": {},
          "execution_count": 32
        }
      ],
      "source": [
        "lr = LinearRegression()\n",
        "lr.fit(x_train[['horsepower', 'curb-weight', 'engine-size', 'highway-mpg']], y_train)"
      ]
    },
    {
      "cell_type": "markdown",
      "metadata": {
        "id": "AO3ieysdWCKQ"
      },
      "source": [
        "Prediction using training data:\n"
      ]
    },
    {
      "cell_type": "code",
      "execution_count": 33,
      "metadata": {
        "id": "c8xw6vazWCKQ",
        "colab": {
          "base_uri": "https://localhost:8080/"
        },
        "outputId": "d9f02119-3397-4908-d983-2d39485215a5"
      },
      "outputs": [
        {
          "output_type": "execute_result",
          "data": {
            "text/plain": [
              "array([ 7426.6731551 , 28323.75090803, 14213.38819709,  4052.34146983,\n",
              "       34500.19124244])"
            ]
          },
          "metadata": {},
          "execution_count": 33
        }
      ],
      "source": [
        "yhat_train = lr.predict(x_train[['horsepower', 'curb-weight', 'engine-size', 'highway-mpg']])\n",
        "yhat_train[0:5]"
      ]
    },
    {
      "cell_type": "markdown",
      "metadata": {
        "id": "hVEctgniWCKQ"
      },
      "source": [
        "Prediction using test data:\n"
      ]
    },
    {
      "cell_type": "code",
      "execution_count": 34,
      "metadata": {
        "id": "D1RTeDLGWCKQ",
        "colab": {
          "base_uri": "https://localhost:8080/"
        },
        "outputId": "cfc9c3b0-c239-4676-8dc5-696b7b32c027"
      },
      "outputs": [
        {
          "output_type": "execute_result",
          "data": {
            "text/plain": [
              "array([11349.35089149,  5884.11059106, 11208.6928275 ,  6641.07786278,\n",
              "       15565.79920282])"
            ]
          },
          "metadata": {},
          "execution_count": 34
        }
      ],
      "source": [
        "yhat_test = lr.predict(x_test[['horsepower', 'curb-weight', 'engine-size', 'highway-mpg']])\n",
        "yhat_test[0:5]"
      ]
    },
    {
      "cell_type": "markdown",
      "metadata": {
        "id": "E7rSqZgwWCKQ"
      },
      "source": [
        "Let's perform some model evaluation using our training and testing data separately. First, we import the seaborn and matplotlib library for plotting.\n"
      ]
    },
    {
      "cell_type": "code",
      "execution_count": 35,
      "metadata": {
        "id": "I9NDuXyeWCKR"
      },
      "outputs": [],
      "source": [
        "import matplotlib.pyplot as plt\n",
        "%matplotlib inline\n",
        "import seaborn as sns"
      ]
    },
    {
      "cell_type": "markdown",
      "metadata": {
        "id": "8Qp2QhzvWCKR"
      },
      "source": [
        "Let's examine the distribution of the predicted values of the training data.\n"
      ]
    },
    {
      "cell_type": "code",
      "execution_count": 40,
      "metadata": {
        "id": "CPE_SgcQWCKR",
        "colab": {
          "base_uri": "https://localhost:8080/",
          "height": 715
        },
        "outputId": "de7f25c7-62c2-4acd-c337-29f0a6ff0d03"
      },
      "outputs": [
        {
          "output_type": "stream",
          "name": "stderr",
          "text": [
            "/usr/local/lib/python3.7/dist-packages/seaborn/distributions.py:2619: FutureWarning: `distplot` is a deprecated function and will be removed in a future version. Please adapt your code to use either `displot` (a figure-level function with similar flexibility) or `kdeplot` (an axes-level function for kernel density plots).\n",
            "  warnings.warn(msg, FutureWarning)\n",
            "/usr/local/lib/python3.7/dist-packages/seaborn/distributions.py:2619: FutureWarning: `distplot` is a deprecated function and will be removed in a future version. Please adapt your code to use either `displot` (a figure-level function with similar flexibility) or `kdeplot` (an axes-level function for kernel density plots).\n",
            "  warnings.warn(msg, FutureWarning)\n"
          ]
        },
        {
          "output_type": "display_data",
          "data": {
            "text/plain": [
              "<Figure size 864x720 with 1 Axes>"
            ],
            "image/png": "[encoded data removed]"
          },
          "metadata": {
            "needs_background": "light"
          }
        }
      ],
      "source": [
        "Title = 'Distribution  Plot of  Predicted Value Using Training Data vs Training Data Distribution'\n",
        "DistributionPlot(y_train, yhat_train, \"Actual Values (Train)\", \"Predicted Values (Train)\", Title)"
      ]
    },
    {
      "cell_type": "markdown",
      "metadata": {
        "id": "_W47-XD4WCKR"
      },
      "source": [
        "Figure 1: Plot of predicted values using the training data compared to the actual values of the training data.\n"
      ]
    },
    {
      "cell_type": "markdown",
      "metadata": {
        "id": "2Y0DZfzqWCKR"
      },
      "source": [
        "So far, the model seems to be doing well in learning from the training dataset. But what happens when the model encounters new data from the testing dataset? When the model generates new values from the test data, we see the distribution of the predicted values is much different from the actual target values.\n"
      ]
    },
    {
      "cell_type": "code",
      "execution_count": 41,
      "metadata": {
        "id": "1l1o0INdWCKS",
        "colab": {
          "base_uri": "https://localhost:8080/",
          "height": 715
        },
        "outputId": "1d129361-2153-40f9-f34e-957dc7ec146e"
      },
      "outputs": [
        {
          "output_type": "stream",
          "name": "stderr",
          "text": [
            "/usr/local/lib/python3.7/dist-packages/seaborn/distributions.py:2619: FutureWarning: `distplot` is a deprecated function and will be removed in a future version. Please adapt your code to use either `displot` (a figure-level function with similar flexibility) or `kdeplot` (an axes-level function for kernel density plots).\n",
            "  warnings.warn(msg, FutureWarning)\n",
            "/usr/local/lib/python3.7/dist-packages/seaborn/distributions.py:2619: FutureWarning: `distplot` is a deprecated function and will be removed in a future version. Please adapt your code to use either `displot` (a figure-level function with similar flexibility) or `kdeplot` (an axes-level function for kernel density plots).\n",
            "  warnings.warn(msg, FutureWarning)\n"
          ]
        },
        {
          "output_type": "display_data",
          "data": {
            "text/plain": [
              "<Figure size 864x720 with 1 Axes>"
            ],
            "image/png": "[encoded data removed]"
          },
          "metadata": {
            "needs_background": "light"
          }
        }
      ],
      "source": [
        "Title='Distribution  Plot of  Predicted Value Using Test Data vs Data Distribution of Test Data'\n",
        "DistributionPlot(y_test,yhat_test,\"Actual Values (Test)\",\"Predicted Values (Test)\",Title)"
      ]
    },
    {
      "cell_type": "markdown",
      "metadata": {
        "id": "11gsjDKcWCKS"
      },
      "source": [
        "Figure 2: Plot of predicted value using the test data compared to the actual values of the test data.\n"
      ]
    },
    {
      "cell_type": "markdown",
      "metadata": {
        "id": "avE5h-8SWCKS"
      },
      "source": [
        "<p>Comparing Figure 1 and Figure 2, it is evident that the distribution of the test data in Figure 1 is much better at fitting the data. This difference in Figure 2 is apparent in the range of 5000 to 15,000. This is where the shape of the distribution is extremely different. Let's see if polynomial regression also exhibits a drop in the prediction accuracy when analysing the test dataset.</p>\n"
      ]
    },
    {
      "cell_type": "code",
      "execution_count": 42,
      "metadata": {
        "id": "VbQ05TsHWCKS"
      },
      "outputs": [],
      "source": [
        "from sklearn.preprocessing import PolynomialFeatures"
      ]
    },
    {
      "cell_type": "markdown",
      "metadata": {
        "id": "RbZQ_9l7WCKS"
      },
      "source": [
        "<h4>Overfitting</h4>\n",
        "<p>Overfitting occurs when the model fits the noise, but not the underlying process. Therefore, when testing your model using the test set, your model does not perform as well since it is modelling noise, not the underlying process that generated the relationship. Let's create a degree 5 polynomial model.</p>\n"
      ]
    },
    {
      "cell_type": "markdown",
      "metadata": {
        "id": "kqSMn5x4WCKT"
      },
      "source": [
        "Let's use 55 percent of the data for training and the rest for testing:\n"
      ]
    },
    {
      "cell_type": "code",
      "execution_count": 43,
      "metadata": {
        "id": "h_Q_603MWCKT"
      },
      "outputs": [],
      "source": [
        "x_train, x_test, y_train, y_test = train_test_split(x_data, y_data, test_size=0.45, random_state=0)"
      ]
    },
    {
      "cell_type": "markdown",
      "metadata": {
        "id": "YX8laD6sWCKT"
      },
      "source": [
        "We will perform a degree 5 polynomial transformation on the feature <b>'horsepower'</b>.\n"
      ]
    },
    {
      "cell_type": "code",
      "execution_count": 44,
      "metadata": {
        "id": "jsckSMWNWCKT",
        "colab": {
          "base_uri": "https://localhost:8080/"
        },
        "outputId": "8219cf3d-4e91-4a2c-cd41-7b0b1b26b873"
      },
      "outputs": [
        {
          "output_type": "execute_result",
          "data": {
            "text/plain": [
              "PolynomialFeatures(degree=5)"
            ]
          },
          "metadata": {},
          "execution_count": 44
        }
      ],
      "source": [
        "pr = PolynomialFeatures(degree=5)\n",
        "x_train_pr = pr.fit_transform(x_train[['horsepower']])\n",
        "x_test_pr = pr.fit_transform(x_test[['horsepower']])\n",
        "pr"
      ]
    },
    {
      "cell_type": "markdown",
      "metadata": {
        "id": "pIvScFXCWCKT"
      },
      "source": [
        "Now, let's create a Linear Regression model \"poly\" and train it.\n"
      ]
    },
    {
      "cell_type": "code",
      "execution_count": 45,
      "metadata": {
        "id": "T6InCpyDWCKT",
        "colab": {
          "base_uri": "https://localhost:8080/"
        },
        "outputId": "ffc10150-e6d6-49e6-df45-fc17e660b272"
      },
      "outputs": [
        {
          "output_type": "execute_result",
          "data": {
            "text/plain": [
              "LinearRegression()"
            ]
          },
          "metadata": {},
          "execution_count": 45
        }
      ],
      "source": [
        "poly = LinearRegression()\n",
        "poly.fit(x_train_pr, y_train)"
      ]
    },
    {
      "cell_type": "markdown",
      "metadata": {
        "id": "v4sdnyubWCKU"
      },
      "source": [
        "We can see the output of our model using the method \"predict.\" We assign the values to \"yhat\".\n"
      ]
    },
    {
      "cell_type": "code",
      "execution_count": 46,
      "metadata": {
        "id": "ThnT9FZjWCKU",
        "colab": {
          "base_uri": "https://localhost:8080/"
        },
        "outputId": "50e20939-a859-4127-ebd8-70f04a9e5cab"
      },
      "outputs": [
        {
          "output_type": "execute_result",
          "data": {
            "text/plain": [
              "array([ 6728.65561887,  7307.98782321, 12213.78770965, 18893.24804015,\n",
              "       19995.95195136])"
            ]
          },
          "metadata": {},
          "execution_count": 46
        }
      ],
      "source": [
        "yhat = poly.predict(x_test_pr)\n",
        "yhat[0:5]"
      ]
    },
    {
      "cell_type": "markdown",
      "metadata": {
        "id": "RnmK7A_6WCKU"
      },
      "source": [
        "Let's take the first five predicted values and compare it to the actual targets.\n"
      ]
    },
    {
      "cell_type": "code",
      "execution_count": 47,
      "metadata": {
        "id": "ZwipYIYSWCKU",
        "colab": {
          "base_uri": "https://localhost:8080/"
        },
        "outputId": "a1f51acc-69ba-4348-af41-35665301bfe2"
      },
      "outputs": [
        {
          "output_type": "stream",
          "name": "stdout",
          "text": [
            "Predicted values: [ 6728.65561887  7307.98782321 12213.78770965 18893.24804015]\n",
            "True values: [ 6295. 10698. 13860. 13499.]\n"
          ]
        }
      ],
      "source": [
        "print(\"Predicted values:\", yhat[0:4])\n",
        "print(\"True values:\", y_test[0:4].values)"
      ]
    },
    {
      "cell_type": "markdown",
      "metadata": {
        "id": "u1nRESMmWCKV"
      },
      "source": [
        "We will use the function \"PollyPlot\" that we defined at the beginning of the lab to display the training data, testing data, and the predicted function.\n"
      ]
    },
    {
      "cell_type": "code",
      "execution_count": 48,
      "metadata": {
        "id": "4qv0ZLG6WCKW",
        "colab": {
          "base_uri": "https://localhost:8080/",
          "height": 595
        },
        "outputId": "59e3920c-3ce0-41aa-fe42-5ac9d0727924"
      },
      "outputs": [
        {
          "output_type": "display_data",
          "data": {
            "text/plain": [
              "<Figure size 864x720 with 1 Axes>"
            ],
            "image/png": "[encoded data removed]"
          },
          "metadata": {
            "needs_background": "light"
          }
        }
      ],
      "source": [
        "PollyPlot(x_train[['horsepower']], x_test[['horsepower']], y_train, y_test, poly,pr)"
      ]
    },
    {
      "cell_type": "markdown",
      "metadata": {
        "id": "zB_0HfIHWCKW"
      },
      "source": [
        "Figure 3: A polynomial regression model where red dots represent training data, green dots represent test data, and the blue line represents the model prediction.\n"
      ]
    },
    {
      "cell_type": "markdown",
      "metadata": {
        "id": "W2Zmoj1xWCKW"
      },
      "source": [
        "We see that the estimated function appears to track the data but around 200 horsepower, the function begins to diverge from the data points.\n"
      ]
    },
    {
      "cell_type": "markdown",
      "metadata": {
        "id": "2kNmOHw9WCKW"
      },
      "source": [
        "R^2 of the training data:\n"
      ]
    },
    {
      "cell_type": "code",
      "execution_count": 49,
      "metadata": {
        "id": "LX8SUrY5WCKX",
        "colab": {
          "base_uri": "https://localhost:8080/"
        },
        "outputId": "978eef46-2a61-424a-d83b-54fd856eee68"
      },
      "outputs": [
        {
          "output_type": "execute_result",
          "data": {
            "text/plain": [
              "0.556771690212023"
            ]
          },
          "metadata": {},
          "execution_count": 49
        }
      ],
      "source": [
        "poly.score(x_train_pr, y_train)"
      ]
    },
    {
      "cell_type": "markdown",
      "metadata": {
        "id": "TQ5-NQWGWCKX"
      },
      "source": [
        "R^2 of the test data:\n"
      ]
    },
    {
      "cell_type": "code",
      "execution_count": 50,
      "metadata": {
        "id": "tFJPyMWmWCKX",
        "colab": {
          "base_uri": "https://localhost:8080/"
        },
        "outputId": "c97d38ed-c1a8-4787-86f7-de72ba601cc9"
      },
      "outputs": [
        {
          "output_type": "execute_result",
          "data": {
            "text/plain": [
              "-29.87134030204415"
            ]
          },
          "metadata": {},
          "execution_count": 50
        }
      ],
      "source": [
        "poly.score(x_test_pr, y_test)"
      ]
    },
    {
      "cell_type": "markdown",
      "metadata": {
        "id": "kyrBvEBrWCKX"
      },
      "source": [
        "We see the R^2 for the training data is 0.5567 while the R^2 on the test data was -29.87.  The lower the R^2, the worse the model. A negative R^2 is a sign of overfitting.\n"
      ]
    },
    {
      "cell_type": "markdown",
      "metadata": {
        "id": "bUH-59VTWCKX"
      },
      "source": [
        "Let's see how the R^2 changes on the test data for different order polynomials and then plot the results:\n"
      ]
    },
    {
      "cell_type": "code",
      "execution_count": 53,
      "metadata": {
        "id": "Ft98Qj_9WCKY",
        "colab": {
          "base_uri": "https://localhost:8080/",
          "height": 321
        },
        "outputId": "e1af9da8-d8d0-4762-ef61-659b435a237f"
      },
      "outputs": [
        {
          "output_type": "execute_result",
          "data": {
            "text/plain": [
              "Text(3, 0.75, 'Maximum $R^2$ ')"
            ]
          },
          "metadata": {},
          "execution_count": 53
        },
        {
          "output_type": "display_data",
          "data": {
            "text/plain": [
              "<Figure size 432x288 with 1 Axes>"
            ],
            "image/png": "[encoded data removed]"
          },
          "metadata": {
            "needs_background": "light"
          }
        }
      ],
      "source": [
        "Rsqu_test = []\n",
        "\n",
        "order = [1, 2, 3, 4]\n",
        "for n in order:\n",
        "    pr = PolynomialFeatures(degree=n)\n",
        "    \n",
        "    x_train_pr = pr.fit_transform(x_train[['horsepower']])\n",
        "    \n",
        "    x_test_pr = pr.fit_transform(x_test[['horsepower']])    \n",
        "    \n",
        "    lr.fit(x_train_pr, y_train)\n",
        "    \n",
        "    Rsqu_test.append(lr.score(x_test_pr, y_test))\n",
        "\n",
        "plt.plot(order, Rsqu_test)\n",
        "plt.xlabel('order')\n",
        "plt.ylabel('$R^2$ ')\n",
        "plt.title('$R^2$  Using Test Data')\n",
        "plt.text(3, 0.75, 'Maximum $R^2$ ')    "
      ]
    },
    {
      "cell_type": "markdown",
      "metadata": {
        "id": "AJpsAmifWCKY"
      },
      "source": [
        "We see the R^2 gradually increases until an order three polynomial is used. Then, the $R^2$  dramatically decreases at an order four polynomial.\n"
      ]
    },
    {
      "cell_type": "markdown",
      "metadata": {
        "id": "Lcn0dreEWCKZ"
      },
      "source": [
        "The following function will be used in the next section. Please run the cell below.\n"
      ]
    },
    {
      "cell_type": "code",
      "execution_count": 54,
      "metadata": {
        "id": "x08KCPbcWCKZ"
      },
      "outputs": [],
      "source": [
        "def f(order, test_data):\n",
        "    x_train, x_test, y_train, y_test = train_test_split(x_data, y_data, test_size=test_data, random_state=0)\n",
        "    pr = PolynomialFeatures(degree=order)\n",
        "    x_train_pr = pr.fit_transform(x_train[['horsepower']])\n",
        "    x_test_pr = pr.fit_transform(x_test[['horsepower']])\n",
        "    poly = LinearRegression()\n",
        "    poly.fit(x_train_pr,y_train)\n",
        "    PollyPlot(x_train[['horsepower']], x_test[['horsepower']], y_train,y_test, poly, pr)"
      ]
    },
    {
      "cell_type": "markdown",
      "metadata": {
        "id": "Ga9LMmV6WCKZ"
      },
      "source": [
        "The following interface allows you to experiment with different polynomial orders and different amounts of data.\n"
      ]
    },
    {
      "cell_type": "code",
      "execution_count": 55,
      "metadata": {
        "id": "EnldkWg5WCKZ",
        "colab": {
          "base_uri": "https://localhost:8080/",
          "height": 676,
          "referenced_widgets": [
            "36e4c2247ad64c00b0d3ad63623133f8",
            "e258ccf4f50d4a079174fded455fca8f",
            "2d5c9b3c61724eff8aaa118b03d4bdd4",
            "239bc13632a94d92b5d31d6193915bcf",
            "07064a93f265490ebac61992b5885551",
            "775d53d720144d56a5fe284ad5758fba",
            "c0fe4153ee99418aa26e05cfffb992e4",
            "1cef5ad04f00449e87ec20ed08c9c031",
            "aa75ed7f5a414d5ba238e5abb177fa40",
            "1ff347bddf6a468d90938e56438dff0b"
          ]
        },
        "outputId": "5a9de6a1-e0e5-4b3d-962a-d5bd5487f77c"
      },
      "outputs": [
        {
          "output_type": "display_data",
          "data": {
            "text/plain": [
              "interactive(children=(IntSlider(value=3, description='order', max=6), FloatSlider(value=0.45, description='tes…"
            ],
            "application/vnd.jupyter.widget-view+json": {
              "version_major": 2,
              "version_minor": 0,
              "model_id": "36e4c2247ad64c00b0d3ad63623133f8"
            }
          },
          "metadata": {}
        },
        {
          "output_type": "execute_result",
          "data": {
            "text/plain": [
              "<function __main__.f>"
            ]
          },
          "metadata": {},
          "execution_count": 55
        }
      ],
      "source": [
        "interact(f, order=(0, 6, 1), test_data=(0.05, 0.95, 0.05))"
      ]
    },
    {
      "cell_type": "markdown",
      "metadata": {
        "id": "OrH7LLMqWCKa"
      },
      "source": [
        "<div class=\"alert alert-danger alertdanger\" style=\"margin-top: 20px\">\n",
        "<h1> Question  #4a):</h1>\n",
        "\n",
        "<b>We can perform polynomial transformations with more than one feature. Create a \"PolynomialFeatures\" object \"pr1\" of degree two.</b>\n",
        "\n",
        "</div>\n"
      ]
    },
    {
      "cell_type": "code",
      "execution_count": 57,
      "metadata": {
        "id": "tUiVA9bRWCKa"
      },
      "outputs": [],
      "source": [
        "# Write your code below and press Shift+Enter to execute \n",
        "pr2 = PolynomialFeatures(degree = 2)\n"
      ]
    },
    {
      "cell_type": "markdown",
      "metadata": {
        "id": "5YwHF8ErWCKb"
      },
      "source": [
        "<details><summary>Click here for the solution</summary>\n",
        "\n",
        "```python\n",
        "pr1=PolynomialFeatures(degree=2)\n",
        "\n",
        "```\n",
        "\n",
        "</details>\n"
      ]
    },
    {
      "cell_type": "markdown",
      "metadata": {
        "id": "aUf-9beVWCKb"
      },
      "source": [
        "<div class=\"alert alert-danger alertdanger\" style=\"margin-top: 20px\">\n",
        "<h1> Question  #4b): </h1>\n",
        "\n",
        "<b> \n",
        " Transform the training and testing samples for the features 'horsepower', 'curb-weight', 'engine-size' and 'highway-mpg'. Hint: use the method \"fit_transform\".</b>\n",
        "</div>\n"
      ]
    },
    {
      "cell_type": "code",
      "execution_count": 59,
      "metadata": {
        "id": "2tSXeeecWCKb"
      },
      "outputs": [],
      "source": [
        "# Write your code below and press Shift+Enter to execute \n",
        "x_train_pr2 = pr2.fit_transform(x_train[['highway-mpg','engine-size','curb-weight','horsepower']])\n",
        "x_test_pr2 = pr2.fit_transform(x_test[['highway-mpg','engine-size','curb-weight','horsepower']])"
      ]
    },
    {
      "cell_type": "markdown",
      "metadata": {
        "id": "RHuACv6iWCKc"
      },
      "source": [
        "<details><summary>Click here for the solution</summary>\n",
        "\n",
        "```python\n",
        "x_train_pr1=pr1.fit_transform(x_train[['horsepower', 'curb-weight', 'engine-size', 'highway-mpg']])\n",
        "\n",
        "x_test_pr1=pr1.fit_transform(x_test[['horsepower', 'curb-weight', 'engine-size', 'highway-mpg']])\n",
        "\n",
        "\n",
        "```\n",
        "\n",
        "</details>\n"
      ]
    },
    {
      "cell_type": "markdown",
      "metadata": {
        "id": "51WlPE24WCKc"
      },
      "source": [
        "<!-- The answer is below:\n",
        "\n",
        "x_train_pr1=pr.fit_transform(x_train[['horsepower', 'curb-weight', 'engine-size', 'highway-mpg']])\n",
        "x_test_pr1=pr.fit_transform(x_test[['horsepower', 'curb-weight', 'engine-size', 'highway-mpg']])\n",
        "\n",
        "-->\n"
      ]
    },
    {
      "cell_type": "markdown",
      "metadata": {
        "id": "lbeOcthzWCKd"
      },
      "source": [
        "<div class=\"alert alert-danger alertdanger\" style=\"margin-top: 20px\">\n",
        "<h1> Question  #4c): </h1>\n",
        "<b> \n",
        "How many dimensions does the new feature have? Hint: use the attribute \"shape\".\n",
        "</b>\n",
        "</div>\n"
      ]
    },
    {
      "cell_type": "code",
      "execution_count": 63,
      "metadata": {
        "id": "H91A2i24WCKd",
        "colab": {
          "base_uri": "https://localhost:8080/"
        },
        "outputId": "87fd9bb9-74cf-43c9-dd3a-fcec319f4e53"
      },
      "outputs": [
        {
          "output_type": "execute_result",
          "data": {
            "text/plain": [
              "(110, 20)"
            ]
          },
          "metadata": {},
          "execution_count": 63
        }
      ],
      "source": [
        "# Write your code below and press Shift+Enter to execute \n",
        "x_train_pr2.shape\n",
        "# x_test_pr2.shape\n",
        "# x_train.shape"
      ]
    },
    {
      "cell_type": "markdown",
      "metadata": {
        "id": "XkKuUeQuWCKd"
      },
      "source": [
        "<details><summary>Click here for the solution</summary>\n",
        "\n",
        "```python\n",
        "x_train_pr1.shape #there are now 15 features\n",
        "\n",
        "\n",
        "```\n",
        "\n",
        "</details>\n"
      ]
    },
    {
      "cell_type": "markdown",
      "metadata": {
        "id": "hvAkW0XMWCKe"
      },
      "source": [
        "<div class=\"alert alert-danger alertdanger\" style=\"margin-top: 20px\">\n",
        "<h1> Question  #4d): </h1>\n",
        "\n",
        "<b> \n",
        "Create a linear regression model \"poly1\". Train the object using the method \"fit\" using the polynomial features.</b>\n",
        "</div>\n"
      ]
    },
    {
      "cell_type": "code",
      "execution_count": 64,
      "metadata": {
        "id": "YM30MWAGWCKe",
        "colab": {
          "base_uri": "https://localhost:8080/"
        },
        "outputId": "9946a9e1-cdbb-4a24-81ab-98bf2a514626"
      },
      "outputs": [
        {
          "output_type": "execute_result",
          "data": {
            "text/plain": [
              "LinearRegression()"
            ]
          },
          "metadata": {},
          "execution_count": 64
        }
      ],
      "source": [
        "# Write your code below and press Shift+Enter to execute \n",
        "poly2 = LinearRegression()\n",
        "poly2.fit(x_train_pr2, y_train)"
      ]
    },
    {
      "cell_type": "markdown",
      "metadata": {
        "id": "EWCHTVbyWCKe"
      },
      "source": [
        "<details><summary>Click here for the solution</summary>\n",
        "\n",
        "```python\n",
        "poly1=LinearRegression().fit(x_train_pr1,y_train)\n",
        "\n",
        "\n",
        "```\n",
        "\n",
        "</details>\n"
      ]
    },
    {
      "cell_type": "markdown",
      "metadata": {
        "id": "7wXSZtAnWCKf"
      },
      "source": [
        " <div class=\"alert alert-danger alertdanger\" style=\"margin-top: 20px\">\n",
        "<h1> Question  #4e): </h1>\n",
        "<b>Use the method  \"predict\" to predict an output on the polynomial features, then use the function \"DistributionPlot\" to display the distribution of the predicted test output vs. the actual test data.</b>\n",
        "</div>\n"
      ]
    },
    {
      "cell_type": "code",
      "execution_count": 65,
      "metadata": {
        "id": "SG-zRzMSWCKf",
        "colab": {
          "base_uri": "https://localhost:8080/",
          "height": 715
        },
        "outputId": "4d9322e2-b84f-432d-f109-9ca466d86f32"
      },
      "outputs": [
        {
          "output_type": "stream",
          "name": "stderr",
          "text": [
            "/usr/local/lib/python3.7/dist-packages/seaborn/distributions.py:2619: FutureWarning: `distplot` is a deprecated function and will be removed in a future version. Please adapt your code to use either `displot` (a figure-level function with similar flexibility) or `kdeplot` (an axes-level function for kernel density plots).\n",
            "  warnings.warn(msg, FutureWarning)\n",
            "/usr/local/lib/python3.7/dist-packages/seaborn/distributions.py:2619: FutureWarning: `distplot` is a deprecated function and will be removed in a future version. Please adapt your code to use either `displot` (a figure-level function with similar flexibility) or `kdeplot` (an axes-level function for kernel density plots).\n",
            "  warnings.warn(msg, FutureWarning)\n"
          ]
        },
        {
          "output_type": "display_data",
          "data": {
            "text/plain": [
              "<Figure size 864x720 with 1 Axes>"
            ],
            "image/png": "[encoded data removed]"
          },
          "metadata": {
            "needs_background": "light"
          }
        }
      ],
      "source": [
        "# Write your code below and press Shift+Enter to execute \n",
        "yhat_test_pr2 = poly2.predict(x_test_pr2)\n",
        "Title='Distribution  Plot of  Predicted Value Using Test Data vs Data Distribution of Test Data'\n",
        "DistributionPlot(y_test, yhat_test_pr2, \"Actual Values (Test)\", \"Predicted Values (Test)\", Title)"
      ]
    },
    {
      "cell_type": "markdown",
      "metadata": {
        "id": "IE5toRhMWCKf"
      },
      "source": [
        "<details><summary>Click here for the solution</summary>\n",
        "\n",
        "```python\n",
        "yhat_test1=poly1.predict(x_test_pr1)\n",
        "\n",
        "Title='Distribution  Plot of  Predicted Value Using Test Data vs Data Distribution of Test Data'\n",
        "\n",
        "DistributionPlot(y_test, yhat_test1, \"Actual Values (Test)\", \"Predicted Values (Test)\", Title)\n",
        "\n",
        "```\n",
        "\n",
        "</details>\n"
      ]
    },
    {
      "cell_type": "markdown",
      "metadata": {
        "id": "3QJDSGULWCKf"
      },
      "source": [
        "<div class=\"alert alert-danger alertdanger\" style=\"margin-top: 20px\">\n",
        "<h1> Question  #4f): </h1>\n",
        "\n",
        "<b>Using the distribution plot above, describe (in words) the two regions where the predicted prices are less accurate than the actual prices.</b>\n",
        "\n",
        "</div>\n"
      ]
    },
    {
      "cell_type": "code",
      "execution_count": null,
      "metadata": {
        "id": "9pUtR-l5WCKf"
      },
      "outputs": [],
      "source": [
        "# Write your code below and press Shift+Enter to execute \n",
        "# proportion of cars 6.2-7.6\n",
        "# price 25k - 52k"
      ]
    },
    {
      "cell_type": "markdown",
      "metadata": {
        "id": "y9-xapKDWCKg"
      },
      "source": [
        "<details><summary>Click here for the solution</summary>\n",
        "\n",
        "```python\n",
        "#The predicted value is higher than actual value for cars where the price $10,000 range, conversely the predicted price is lower than the price cost in the $30,000 to $40,000 range. As such the model is not as accurate in these ranges.\n",
        "\n",
        "```\n",
        "\n",
        "</details>\n"
      ]
    },
    {
      "cell_type": "markdown",
      "metadata": {
        "id": "74S9McfIWCKg"
      },
      "source": [
        "<h2 id=\"ref3\">Part 3: Ridge Regression</h2> \n"
      ]
    },
    {
      "cell_type": "markdown",
      "metadata": {
        "id": "Z2bow2HcWCKg"
      },
      "source": [
        "In this section, we will review Ridge Regression and see how the parameter alpha changes the model. Just a note, here our test data will be used as validation data.\n"
      ]
    },
    {
      "cell_type": "markdown",
      "metadata": {
        "id": "FsvxlUVTWCKg"
      },
      "source": [
        "Let's perform a degree two polynomial transformation on our data.\n"
      ]
    },
    {
      "cell_type": "code",
      "execution_count": 66,
      "metadata": {
        "id": "CKuIasY_WCKh"
      },
      "outputs": [],
      "source": [
        "pr=PolynomialFeatures(degree=2)\n",
        "\n",
        "x_train_pr=pr.fit_transform(x_train[['horsepower', 'curb-weight', 'engine-size', 'highway-mpg','normalized-losses','symboling']])\n",
        "x_test_pr=pr.fit_transform(x_test[['horsepower', 'curb-weight', 'engine-size', 'highway-mpg','normalized-losses','symboling']])"
      ]
    },
    {
      "cell_type": "markdown",
      "metadata": {
        "id": "RDyAHyP8WCKh"
      },
      "source": [
        "Let's import  <b>Ridge</b>  from the module <b>linear models</b>.\n"
      ]
    },
    {
      "cell_type": "code",
      "execution_count": 67,
      "metadata": {
        "id": "Oph0bcydWCKi"
      },
      "outputs": [],
      "source": [
        "from sklearn.linear_model import Ridge"
      ]
    },
    {
      "cell_type": "markdown",
      "metadata": {
        "id": "kBBEAhKtWCKi"
      },
      "source": [
        "Let's create a Ridge regression object, setting the regularization parameter (alpha) to 0.1\n"
      ]
    },
    {
      "cell_type": "code",
      "execution_count": 68,
      "metadata": {
        "id": "m7nTU9t6WCKj"
      },
      "outputs": [],
      "source": [
        "RigeModel=Ridge(alpha=1)"
      ]
    },
    {
      "cell_type": "markdown",
      "metadata": {
        "id": "Got482dFWCKj"
      },
      "source": [
        "Like regular regression, you can fit the model using the method <b>fit</b>.\n"
      ]
    },
    {
      "cell_type": "code",
      "execution_count": 69,
      "metadata": {
        "id": "KAEygsd-WCKk",
        "colab": {
          "base_uri": "https://localhost:8080/"
        },
        "outputId": "f9d8ce1e-dac3-4030-a429-53d02b70f042"
      },
      "outputs": [
        {
          "output_type": "execute_result",
          "data": {
            "text/plain": [
              "Ridge(alpha=1)"
            ]
          },
          "metadata": {},
          "execution_count": 69
        }
      ],
      "source": [
        "RigeModel.fit(x_train_pr, y_train)"
      ]
    },
    {
      "cell_type": "markdown",
      "metadata": {
        "id": "M9Z45UvKWCKk"
      },
      "source": [
        "Similarly, you can obtain a prediction:\n"
      ]
    },
    {
      "cell_type": "code",
      "execution_count": 70,
      "metadata": {
        "id": "LCDyWFudWCKk"
      },
      "outputs": [],
      "source": [
        "yhat = RigeModel.predict(x_test_pr)"
      ]
    },
    {
      "cell_type": "markdown",
      "metadata": {
        "id": "76PFlf7FWCKm"
      },
      "source": [
        "Let's compare the first five predicted samples to our test set:\n"
      ]
    },
    {
      "cell_type": "code",
      "execution_count": 71,
      "metadata": {
        "id": "yp8_av4iWCKn",
        "colab": {
          "base_uri": "https://localhost:8080/"
        },
        "outputId": "1cd49bef-12bb-474f-988e-4ebb51586552"
      },
      "outputs": [
        {
          "output_type": "stream",
          "name": "stdout",
          "text": [
            "predicted: [ 6570.82441941  9636.2489147  20949.92322737 19403.60313256]\n",
            "test set : [ 6295. 10698. 13860. 13499.]\n"
          ]
        }
      ],
      "source": [
        "print('predicted:', yhat[0:4])\n",
        "print('test set :', y_test[0:4].values)"
      ]
    },
    {
      "cell_type": "markdown",
      "metadata": {
        "id": "SREXUvrmWCKn"
      },
      "source": [
        "We select the value of alpha that minimizes the test error. To do so, we can use a for loop. We have also created a progress bar to see how many iterations we have completed so far.\n"
      ]
    },
    {
      "cell_type": "code",
      "source": [
        "10*\\\n",
        "np.array(range(0,1000))"
      ],
      "metadata": {
        "colab": {
          "base_uri": "https://localhost:8080/"
        },
        "id": "-X1ydMGb-niG",
        "outputId": "f94794f3-e249-4b2b-b557-1d261ba1ee67"
      },
      "execution_count": 76,
      "outputs": [
        {
          "output_type": "execute_result",
          "data": {
            "text/plain": [
              "array([   0,   10,   20,   30,   40,   50,   60,   70,   80,   90,  100,\n",
              "        110,  120,  130,  140,  150,  160,  170,  180,  190,  200,  210,\n",
              "        220,  230,  240,  250,  260,  270,  280,  290,  300,  310,  320,\n",
              "        330,  340,  350,  360,  370,  380,  390,  400,  410,  420,  430,\n",
              "        440,  450,  460,  470,  480,  490,  500,  510,  520,  530,  540,\n",
              "        550,  560,  570,  580,  590,  600,  610,  620,  630,  640,  650,\n",
              "        660,  670,  680,  690,  700,  710,  720,  730,  740,  750,  760,\n",
              "        770,  780,  790,  800,  810,  820,  830,  840,  850,  860,  870,\n",
              "        880,  890,  900,  910,  920,  930,  940,  950,  960,  970,  980,\n",
              "        990, 1000, 1010, 1020, 1030, 1040, 1050, 1060, 1070, 1080, 1090,\n",
              "       1100, 1110, 1120, 1130, 1140, 1150, 1160, 1170, 1180, 1190, 1200,\n",
              "       1210, 1220, 1230, 1240, 1250, 1260, 1270, 1280, 1290, 1300, 1310,\n",
              "       1320, 1330, 1340, 1350, 1360, 1370, 1380, 1390, 1400, 1410, 1420,\n",
              "       1430, 1440, 1450, 1460, 1470, 1480, 1490, 1500, 1510, 1520, 1530,\n",
              "       1540, 1550, 1560, 1570, 1580, 1590, 1600, 1610, 1620, 1630, 1640,\n",
              "       1650, 1660, 1670, 1680, 1690, 1700, 1710, 1720, 1730, 1740, 1750,\n",
              "       1760, 1770, 1780, 1790, 1800, 1810, 1820, 1830, 1840, 1850, 1860,\n",
              "       1870, 1880, 1890, 1900, 1910, 1920, 1930, 1940, 1950, 1960, 1970,\n",
              "       1980, 1990, 2000, 2010, 2020, 2030, 2040, 2050, 2060, 2070, 2080,\n",
              "       2090, 2100, 2110, 2120, 2130, 2140, 2150, 2160, 2170, 2180, 2190,\n",
              "       2200, 2210, 2220, 2230, 2240, 2250, 2260, 2270, 2280, 2290, 2300,\n",
              "       2310, 2320, 2330, 2340, 2350, 2360, 2370, 2380, 2390, 2400, 2410,\n",
              "       2420, 2430, 2440, 2450, 2460, 2470, 2480, 2490, 2500, 2510, 2520,\n",
              "       2530, 2540, 2550, 2560, 2570, 2580, 2590, 2600, 2610, 2620, 2630,\n",
              "       2640, 2650, 2660, 2670, 2680, 2690, 2700, 2710, 2720, 2730, 2740,\n",
              "       2750, 2760, 2770, 2780, 2790, 2800, 2810, 2820, 2830, 2840, 2850,\n",
              "       2860, 2870, 2880, 2890, 2900, 2910, 2920, 2930, 2940, 2950, 2960,\n",
              "       2970, 2980, 2990, 3000, 3010, 3020, 3030, 3040, 3050, 3060, 3070,\n",
              "       3080, 3090, 3100, 3110, 3120, 3130, 3140, 3150, 3160, 3170, 3180,\n",
              "       3190, 3200, 3210, 3220, 3230, 3240, 3250, 3260, 3270, 3280, 3290,\n",
              "       3300, 3310, 3320, 3330, 3340, 3350, 3360, 3370, 3380, 3390, 3400,\n",
              "       3410, 3420, 3430, 3440, 3450, 3460, 3470, 3480, 3490, 3500, 3510,\n",
              "       3520, 3530, 3540, 3550, 3560, 3570, 3580, 3590, 3600, 3610, 3620,\n",
              "       3630, 3640, 3650, 3660, 3670, 3680, 3690, 3700, 3710, 3720, 3730,\n",
              "       3740, 3750, 3760, 3770, 3780, 3790, 3800, 3810, 3820, 3830, 3840,\n",
              "       3850, 3860, 3870, 3880, 3890, 3900, 3910, 3920, 3930, 3940, 3950,\n",
              "       3960, 3970, 3980, 3990, 4000, 4010, 4020, 4030, 4040, 4050, 4060,\n",
              "       4070, 4080, 4090, 4100, 4110, 4120, 4130, 4140, 4150, 4160, 4170,\n",
              "       4180, 4190, 4200, 4210, 4220, 4230, 4240, 4250, 4260, 4270, 4280,\n",
              "       4290, 4300, 4310, 4320, 4330, 4340, 4350, 4360, 4370, 4380, 4390,\n",
              "       4400, 4410, 4420, 4430, 4440, 4450, 4460, 4470, 4480, 4490, 4500,\n",
              "       4510, 4520, 4530, 4540, 4550, 4560, 4570, 4580, 4590, 4600, 4610,\n",
              "       4620, 4630, 4640, 4650, 4660, 4670, 4680, 4690, 4700, 4710, 4720,\n",
              "       4730, 4740, 4750, 4760, 4770, 4780, 4790, 4800, 4810, 4820, 4830,\n",
              "       4840, 4850, 4860, 4870, 4880, 4890, 4900, 4910, 4920, 4930, 4940,\n",
              "       4950, 4960, 4970, 4980, 4990, 5000, 5010, 5020, 5030, 5040, 5050,\n",
              "       5060, 5070, 5080, 5090, 5100, 5110, 5120, 5130, 5140, 5150, 5160,\n",
              "       5170, 5180, 5190, 5200, 5210, 5220, 5230, 5240, 5250, 5260, 5270,\n",
              "       5280, 5290, 5300, 5310, 5320, 5330, 5340, 5350, 5360, 5370, 5380,\n",
              "       5390, 5400, 5410, 5420, 5430, 5440, 5450, 5460, 5470, 5480, 5490,\n",
              "       5500, 5510, 5520, 5530, 5540, 5550, 5560, 5570, 5580, 5590, 5600,\n",
              "       5610, 5620, 5630, 5640, 5650, 5660, 5670, 5680, 5690, 5700, 5710,\n",
              "       5720, 5730, 5740, 5750, 5760, 5770, 5780, 5790, 5800, 5810, 5820,\n",
              "       5830, 5840, 5850, 5860, 5870, 5880, 5890, 5900, 5910, 5920, 5930,\n",
              "       5940, 5950, 5960, 5970, 5980, 5990, 6000, 6010, 6020, 6030, 6040,\n",
              "       6050, 6060, 6070, 6080, 6090, 6100, 6110, 6120, 6130, 6140, 6150,\n",
              "       6160, 6170, 6180, 6190, 6200, 6210, 6220, 6230, 6240, 6250, 6260,\n",
              "       6270, 6280, 6290, 6300, 6310, 6320, 6330, 6340, 6350, 6360, 6370,\n",
              "       6380, 6390, 6400, 6410, 6420, 6430, 6440, 6450, 6460, 6470, 6480,\n",
              "       6490, 6500, 6510, 6520, 6530, 6540, 6550, 6560, 6570, 6580, 6590,\n",
              "       6600, 6610, 6620, 6630, 6640, 6650, 6660, 6670, 6680, 6690, 6700,\n",
              "       6710, 6720, 6730, 6740, 6750, 6760, 6770, 6780, 6790, 6800, 6810,\n",
              "       6820, 6830, 6840, 6850, 6860, 6870, 6880, 6890, 6900, 6910, 6920,\n",
              "       6930, 6940, 6950, 6960, 6970, 6980, 6990, 7000, 7010, 7020, 7030,\n",
              "       7040, 7050, 7060, 7070, 7080, 7090, 7100, 7110, 7120, 7130, 7140,\n",
              "       7150, 7160, 7170, 7180, 7190, 7200, 7210, 7220, 7230, 7240, 7250,\n",
              "       7260, 7270, 7280, 7290, 7300, 7310, 7320, 7330, 7340, 7350, 7360,\n",
              "       7370, 7380, 7390, 7400, 7410, 7420, 7430, 7440, 7450, 7460, 7470,\n",
              "       7480, 7490, 7500, 7510, 7520, 7530, 7540, 7550, 7560, 7570, 7580,\n",
              "       7590, 7600, 7610, 7620, 7630, 7640, 7650, 7660, 7670, 7680, 7690,\n",
              "       7700, 7710, 7720, 7730, 7740, 7750, 7760, 7770, 7780, 7790, 7800,\n",
              "       7810, 7820, 7830, 7840, 7850, 7860, 7870, 7880, 7890, 7900, 7910,\n",
              "       7920, 7930, 7940, 7950, 7960, 7970, 7980, 7990, 8000, 8010, 8020,\n",
              "       8030, 8040, 8050, 8060, 8070, 8080, 8090, 8100, 8110, 8120, 8130,\n",
              "       8140, 8150, 8160, 8170, 8180, 8190, 8200, 8210, 8220, 8230, 8240,\n",
              "       8250, 8260, 8270, 8280, 8290, 8300, 8310, 8320, 8330, 8340, 8350,\n",
              "       8360, 8370, 8380, 8390, 8400, 8410, 8420, 8430, 8440, 8450, 8460,\n",
              "       8470, 8480, 8490, 8500, 8510, 8520, 8530, 8540, 8550, 8560, 8570,\n",
              "       8580, 8590, 8600, 8610, 8620, 8630, 8640, 8650, 8660, 8670, 8680,\n",
              "       8690, 8700, 8710, 8720, 8730, 8740, 8750, 8760, 8770, 8780, 8790,\n",
              "       8800, 8810, 8820, 8830, 8840, 8850, 8860, 8870, 8880, 8890, 8900,\n",
              "       8910, 8920, 8930, 8940, 8950, 8960, 8970, 8980, 8990, 9000, 9010,\n",
              "       9020, 9030, 9040, 9050, 9060, 9070, 9080, 9090, 9100, 9110, 9120,\n",
              "       9130, 9140, 9150, 9160, 9170, 9180, 9190, 9200, 9210, 9220, 9230,\n",
              "       9240, 9250, 9260, 9270, 9280, 9290, 9300, 9310, 9320, 9330, 9340,\n",
              "       9350, 9360, 9370, 9380, 9390, 9400, 9410, 9420, 9430, 9440, 9450,\n",
              "       9460, 9470, 9480, 9490, 9500, 9510, 9520, 9530, 9540, 9550, 9560,\n",
              "       9570, 9580, 9590, 9600, 9610, 9620, 9630, 9640, 9650, 9660, 9670,\n",
              "       9680, 9690, 9700, 9710, 9720, 9730, 9740, 9750, 9760, 9770, 9780,\n",
              "       9790, 9800, 9810, 9820, 9830, 9840, 9850, 9860, 9870, 9880, 9890,\n",
              "       9900, 9910, 9920, 9930, 9940, 9950, 9960, 9970, 9980, 9990])"
            ]
          },
          "metadata": {},
          "execution_count": 76
        }
      ]
    },
    {
      "cell_type": "markdown",
      "source": [
        "https://www.analyticsvidhya.com/blog/2021/05/how-to-use-progress-bars-in-python/"
      ],
      "metadata": {
        "id": "NkE_hTBO_8HA"
      }
    },
    {
      "cell_type": "code",
      "execution_count": 78,
      "metadata": {
        "id": "xlWRqk-YWCKn",
        "colab": {
          "base_uri": "https://localhost:8080/"
        },
        "outputId": "6fa73a18-5120-4047-c200-dcd18f2f1656"
      },
      "outputs": [
        {
          "output_type": "stream",
          "name": "stderr",
          "text": [
            "100%|██████████| 1000/1000 [00:05<00:00, 188.84it/s, Test Score=0.564, Train Score=0.859]\n"
          ]
        }
      ],
      "source": [
        "from tqdm import tqdm\n",
        "\n",
        "Rsqu_test = []\n",
        "Rsqu_train = []\n",
        "dummy1 = []\n",
        "Alpha = 10 * np.array(range(0,1000))\n",
        "pbar = tqdm(Alpha)\n",
        "\n",
        "for alpha in pbar:\n",
        "    RigeModel = Ridge(alpha=alpha) \n",
        "    RigeModel.fit(x_train_pr, y_train)\n",
        "    test_score, train_score = RigeModel.score(x_test_pr, y_test), RigeModel.score(x_train_pr, y_train)\n",
        "    \n",
        "    pbar.set_postfix({\"Test Score\": test_score, \"Train Score\": train_score})\n",
        "\n",
        "    Rsqu_test.append(test_score)\n",
        "    Rsqu_train.append(train_score)"
      ]
    },
    {
      "cell_type": "markdown",
      "metadata": {
        "id": "BSzSL2SKWCKn"
      },
      "source": [
        "We can plot out the value of R^2 for different alphas:\n"
      ]
    },
    {
      "cell_type": "code",
      "execution_count": 82,
      "metadata": {
        "id": "BbshA6eOWCKn",
        "colab": {
          "base_uri": "https://localhost:8080/",
          "height": 626
        },
        "outputId": "30b3d157-d842-40ac-c345-c2e5f51471fa"
      },
      "outputs": [
        {
          "output_type": "execute_result",
          "data": {
            "text/plain": [
              "<matplotlib.legend.Legend at 0x7fc741107750>"
            ]
          },
          "metadata": {},
          "execution_count": 82
        },
        {
          "output_type": "display_data",
          "data": {
            "text/plain": [
              "<Figure size 864x720 with 1 Axes>"
            ],
            "image/png": "[encoded data removed]"
          },
          "metadata": {
            "needs_background": "light"
          }
        }
      ],
      "source": [
        "width = 12\n",
        "height = 10\n",
        "plt.figure(figsize=(width, height))\n",
        "\n",
        "plt.plot(Alpha,Rsqu_test,'b', label='validation data  ')\n",
        "plt.plot(Alpha,Rsqu_train, 'r', label='training Data ')\n",
        "plt.xlabel('alpha')\n",
        "plt.ylabel('R^2')\n",
        "plt.legend()"
      ]
    },
    {
      "cell_type": "markdown",
      "metadata": {
        "id": "0G1OdC2GWCKo"
      },
      "source": [
        "**Figure 4**: The blue line represents the R^2 of the validation data, and the red line represents the R^2 of the training data. The x-axis represents the different values of Alpha.\n"
      ]
    },
    {
      "cell_type": "markdown",
      "metadata": {
        "id": "iq5Ebw7_WCKo"
      },
      "source": [
        "Here the model is built and tested on the same data, so the training and test data are the same.\n",
        "\n",
        "The red line in Figure 4 represents the R^2 of the training data. As alpha increases the R^2 decreases. Therefore, as alpha increases, the model performs worse on the training data\n",
        "\n",
        "The blue line represents the R^2 on the validation data. As the value for alpha increases, the R^2 increases and converges at a point.\n"
      ]
    },
    {
      "cell_type": "markdown",
      "metadata": {
        "id": "71Ivsos0WCKo"
      },
      "source": [
        "<div class=\"alert alert-danger alertdanger\" style=\"margin-top: 20px\">\n",
        "<h1> Question  #5): </h1>\n",
        "\n",
        "Perform Ridge regression. Calculate the R^2 using the polynomial features, use the training data to train the model and use the test data to test the model. The parameter alpha should be set to 10.\n",
        "\n",
        "</div>\n"
      ]
    },
    {
      "cell_type": "code",
      "execution_count": 83,
      "metadata": {
        "id": "BBDNQWKOWCKp",
        "colab": {
          "base_uri": "https://localhost:8080/"
        },
        "outputId": "b118c4e0-95c7-463a-b75d-0ba8016fe9f7"
      },
      "outputs": [
        {
          "output_type": "execute_result",
          "data": {
            "text/plain": [
              "0.5418576440206702"
            ]
          },
          "metadata": {},
          "execution_count": 83
        }
      ],
      "source": [
        "# Write your code below and press Shift+Enter to execute \n",
        "RR2 = Ridge(alpha = 10)\n",
        "RR2.fit(x_train_pr, y_train)\n",
        "RR2.score(x_test_pr,y_test)"
      ]
    },
    {
      "cell_type": "markdown",
      "metadata": {
        "id": "Oi1jimKTWCKp"
      },
      "source": [
        "<details><summary>Click here for the solution</summary>\n",
        "\n",
        "```python\n",
        "RigeModel = Ridge(alpha=10) \n",
        "RigeModel.fit(x_train_pr, y_train)\n",
        "RigeModel.score(x_test_pr, y_test)\n",
        "\n",
        "```\n",
        "\n",
        "</details>\n"
      ]
    },
    {
      "cell_type": "markdown",
      "metadata": {
        "id": "8XtOaow1WCKp"
      },
      "source": [
        "<h2 id=\"ref4\">Part 4: Grid Search</h2>\n"
      ]
    },
    {
      "cell_type": "markdown",
      "metadata": {
        "id": "CjVXj8D1WCKp"
      },
      "source": [
        "The term alpha is a hyperparameter. Sklearn has the class <b>GridSearchCV</b> to make the process of finding the best hyperparameter simpler.\n"
      ]
    },
    {
      "cell_type": "markdown",
      "metadata": {
        "id": "sYtelDUjWCKq"
      },
      "source": [
        "Let's import <b>GridSearchCV</b> from  the module <b>model_selection</b>.\n"
      ]
    },
    {
      "cell_type": "code",
      "execution_count": 84,
      "metadata": {
        "id": "B1pOd0OtWCKq"
      },
      "outputs": [],
      "source": [
        "from sklearn.model_selection import GridSearchCV"
      ]
    },
    {
      "cell_type": "markdown",
      "metadata": {
        "id": "RGIMFIkzWCKq"
      },
      "source": [
        "We create a dictionary of parameter values:\n"
      ]
    },
    {
      "cell_type": "code",
      "execution_count": 85,
      "metadata": {
        "id": "l4pRv1T3WCKr",
        "colab": {
          "base_uri": "https://localhost:8080/"
        },
        "outputId": "2ac359a7-d702-4e3f-d897-918cd7cbb8f0"
      },
      "outputs": [
        {
          "output_type": "execute_result",
          "data": {
            "text/plain": [
              "[{'alpha': [0.001, 0.1, 1, 10, 100, 1000, 10000, 100000, 100000]}]"
            ]
          },
          "metadata": {},
          "execution_count": 85
        }
      ],
      "source": [
        "parameters1= [{'alpha': [0.001,0.1,1, 10, 100, 1000, 10000, 100000, 100000]}]\n",
        "parameters1"
      ]
    },
    {
      "cell_type": "markdown",
      "metadata": {
        "id": "mCzdQA1SWCKr"
      },
      "source": [
        "Create a Ridge regression object:\n"
      ]
    },
    {
      "cell_type": "code",
      "execution_count": 86,
      "metadata": {
        "id": "C4IZCL0xWCKs",
        "colab": {
          "base_uri": "https://localhost:8080/"
        },
        "outputId": "b7bb3864-e5dd-4c58-e3ec-70d3bbdef298"
      },
      "outputs": [
        {
          "output_type": "execute_result",
          "data": {
            "text/plain": [
              "Ridge()"
            ]
          },
          "metadata": {},
          "execution_count": 86
        }
      ],
      "source": [
        "RR=Ridge()\n",
        "RR"
      ]
    },
    {
      "cell_type": "markdown",
      "metadata": {
        "id": "o7J7SS6ZWCKs"
      },
      "source": [
        "Create a ridge grid search object:\n"
      ]
    },
    {
      "cell_type": "code",
      "execution_count": 88,
      "metadata": {
        "id": "BvJmSt_HWCKt"
      },
      "outputs": [],
      "source": [
        "Grid1 = GridSearchCV(RR, parameters1,cv=4)"
      ]
    },
    {
      "cell_type": "markdown",
      "metadata": {
        "id": "kwVcrtQ8WCKt"
      },
      "source": [
        "In order to avoid a deprecation warning due to the iid parameter, we set the value of iid to \"None\".\n",
        "\n",
        "Fit the model:\n"
      ]
    },
    {
      "cell_type": "code",
      "execution_count": 89,
      "metadata": {
        "id": "w0EFYHNDWCKt",
        "colab": {
          "base_uri": "https://localhost:8080/"
        },
        "outputId": "acf2271d-0735-44dc-956f-e3f21b69fe4e"
      },
      "outputs": [
        {
          "output_type": "execute_result",
          "data": {
            "text/plain": [
              "GridSearchCV(cv=4, estimator=Ridge(),\n",
              "             param_grid=[{'alpha': [0.001, 0.1, 1, 10, 100, 1000, 10000, 100000,\n",
              "                                    100000]}])"
            ]
          },
          "metadata": {},
          "execution_count": 89
        }
      ],
      "source": [
        "Grid1.fit(x_data[['horsepower', 'curb-weight', 'engine-size', 'highway-mpg']], y_data)"
      ]
    },
    {
      "cell_type": "markdown",
      "metadata": {
        "id": "hkvkOWplWCKu"
      },
      "source": [
        "The object finds the best parameter values on the validation data. We can obtain the estimator with the best parameters and assign it to the variable BestRR as follows:\n"
      ]
    },
    {
      "cell_type": "code",
      "execution_count": 90,
      "metadata": {
        "id": "QrIEcoBhWCKu",
        "colab": {
          "base_uri": "https://localhost:8080/"
        },
        "outputId": "5953b862-e196-4c75-f086-59b0ce13f9c6"
      },
      "outputs": [
        {
          "output_type": "execute_result",
          "data": {
            "text/plain": [
              "Ridge(alpha=10000)"
            ]
          },
          "metadata": {},
          "execution_count": 90
        }
      ],
      "source": [
        "BestRR=Grid1.best_estimator_\n",
        "BestRR"
      ]
    },
    {
      "cell_type": "markdown",
      "metadata": {
        "id": "S8eD4JQQWCKu"
      },
      "source": [
        "We now test our model on the test data:\n"
      ]
    },
    {
      "cell_type": "code",
      "execution_count": 93,
      "metadata": {
        "id": "zG5gnDU1WCKv",
        "colab": {
          "base_uri": "https://localhost:8080/"
        },
        "outputId": "767a7bef-0642-44b6-f1ac-11d8c2407546"
      },
      "outputs": [
        {
          "output_type": "execute_result",
          "data": {
            "text/plain": [
              "0.8411649831036151"
            ]
          },
          "metadata": {},
          "execution_count": 93
        }
      ],
      "source": [
        "BestRR.score(x_test[['horsepower', 'curb-weight', 'engine-size', 'highway-mpg']], y_test)"
      ]
    },
    {
      "cell_type": "markdown",
      "metadata": {
        "id": "HT-p9Kk_WCKv"
      },
      "source": [
        "<div class=\"alert alert-danger alertdanger\" style=\"margin-top: 20px\">\n",
        "<h1> Question  #6): </h1>\n",
        "Perform a grid search for the alpha parameter and the normalization parameter, then find the best values of the parameters:\n",
        "</div>\n"
      ]
    },
    {
      "cell_type": "code",
      "execution_count": 98,
      "metadata": {
        "id": "gtNLTUXDWCKv"
      },
      "outputs": [],
      "source": [
        "# # Write your code below and press Shift+Enter to execute \n",
        "# parameters1= [{'alpha': [0.001,0.1,1, 10, 100, 1000, 10000, 100000, 100000]}, {'normalize':[True, False] } ]\n",
        "# Grid2 = GridSearchCV(RR, parameters1,cv=4)\n",
        "# Grid2.fit(x_data[['horsepower', 'curb-weight', 'engine-size', 'highway-mpg']], y_data)\n"
      ]
    },
    {
      "cell_type": "code",
      "source": [
        "BestRR2 = Grid2.best_estimator_\n",
        "BestRR2"
      ],
      "metadata": {
        "colab": {
          "base_uri": "https://localhost:8080/"
        },
        "id": "tE_-m9VDFDS0",
        "outputId": "673f5f78-6fc9-463e-cae9-3ff32532a300"
      },
      "execution_count": 100,
      "outputs": [
        {
          "output_type": "execute_result",
          "data": {
            "text/plain": [
              "Ridge(alpha=0.1, normalize=True)"
            ]
          },
          "metadata": {},
          "execution_count": 100
        }
      ]
    },
    {
      "cell_type": "code",
      "source": [
        "out = Grid2.cv_results_\n",
        "out = pd.DataFrame(out)\n",
        "out.iloc[:, 4:].sort_values(by = \"rank_test_score\")"
      ],
      "metadata": {
        "colab": {
          "base_uri": "https://localhost:8080/",
          "height": 657
        },
        "id": "DmdfXEUeG7Pt",
        "outputId": "0386024f-0cf5-4475-849d-9a36438224fc"
      },
      "execution_count": 112,
      "outputs": [
        {
          "output_type": "execute_result",
          "data": {
            "text/plain": [
              "   param_alpha param_normalize                                 params  \\\n",
              "2          0.1            True      {'alpha': 0.1, 'normalize': True}   \n",
              "4            1            True        {'alpha': 1, 'normalize': True}   \n",
              "13       10000           False   {'alpha': 10000, 'normalize': False}   \n",
              "11        1000           False    {'alpha': 1000, 'normalize': False}   \n",
              "0        0.001            True    {'alpha': 0.001, 'normalize': True}   \n",
              "9          100           False     {'alpha': 100, 'normalize': False}   \n",
              "7           10           False      {'alpha': 10, 'normalize': False}   \n",
              "5            1           False       {'alpha': 1, 'normalize': False}   \n",
              "3          0.1           False     {'alpha': 0.1, 'normalize': False}   \n",
              "1        0.001           False   {'alpha': 0.001, 'normalize': False}   \n",
              "15      100000           False  {'alpha': 100000, 'normalize': False}   \n",
              "17      100000           False  {'alpha': 100000, 'normalize': False}   \n",
              "6           10            True       {'alpha': 10, 'normalize': True}   \n",
              "8          100            True      {'alpha': 100, 'normalize': True}   \n",
              "10        1000            True     {'alpha': 1000, 'normalize': True}   \n",
              "12       10000            True    {'alpha': 10000, 'normalize': True}   \n",
              "16      100000            True   {'alpha': 100000, 'normalize': True}   \n",
              "14      100000            True   {'alpha': 100000, 'normalize': True}   \n",
              "\n",
              "    split0_test_score  split1_test_score  split2_test_score  \\\n",
              "2            0.844728           0.792146           0.648034   \n",
              "4            0.786856           0.725714           0.663742   \n",
              "13           0.844282           0.794231           0.568166   \n",
              "11           0.844694           0.788675           0.572385   \n",
              "0            0.844695           0.786160           0.565751   \n",
              "9            0.844672           0.786314           0.565492   \n",
              "7            0.844666           0.785937           0.564268   \n",
              "5            0.844666           0.785897           0.564137   \n",
              "3            0.844666           0.785893           0.564124   \n",
              "1            0.844666           0.785892           0.564122   \n",
              "15           0.827067           0.806946           0.454080   \n",
              "17           0.827067           0.806946           0.454080   \n",
              "6            0.345685           0.313034           0.306478   \n",
              "8            0.043176           0.037118           0.044021   \n",
              "10          -0.002003          -0.004199           0.003921   \n",
              "12          -0.006736          -0.008530          -0.000293   \n",
              "16          -0.007211          -0.008965          -0.000716   \n",
              "14          -0.007211          -0.008965          -0.000716   \n",
              "\n",
              "    split3_test_score  mean_test_score  std_test_score  rank_test_score  \n",
              "2            0.488784         0.693423        0.138362                1  \n",
              "4            0.583709         0.690005        0.075239                2  \n",
              "13           0.483288         0.672492        0.150843                3  \n",
              "11           0.466606         0.668090        0.154503                4  \n",
              "0            0.464044         0.665162        0.155888                5  \n",
              "9            0.464066         0.665136        0.155945                6  \n",
              "7            0.463729         0.664650        0.156175                7  \n",
              "5            0.463693         0.664598        0.156199                8  \n",
              "3            0.463690         0.664593        0.156202                9  \n",
              "1            0.463690         0.664592        0.156202               10  \n",
              "15           0.539797         0.656973        0.163034               11  \n",
              "17           0.539797         0.656973        0.163034               11  \n",
              "6            0.319825         0.321255        0.014873               13  \n",
              "8           -0.056617         0.016925        0.042543               14  \n",
              "10          -0.119067        -0.030337        0.051314               15  \n",
              "12          -0.125686        -0.035311        0.052268               16  \n",
              "16          -0.126351        -0.035811        0.052364               17  \n",
              "14          -0.126351        -0.035811        0.052364               17  "
            ],
            "text/html": [
              "\n",
              "  <div id=\"df-5bc299f8-5e29-4756-837a-a3f1d1434875\">\n",
              "    <div class=\"colab-df-container\">\n",
              "      <div>\n",
              "<style scoped>\n",
              "    .dataframe tbody tr th:only-of-type {\n",
              "        vertical-align: middle;\n",
              "    }\n",
              "\n",
              "    .dataframe tbody tr th {\n",
              "        vertical-align: top;\n",
              "    }\n",
              "\n",
              "    .dataframe thead th {\n",
              "        text-align: right;\n",
              "    }\n",
              "</style>\n",
              "<table border=\"1\" class=\"dataframe\">\n",
              "  <thead>\n",
              "    <tr style=\"text-align: right;\">\n",
              "      <th></th>\n",
              "      <th>param_alpha</th>\n",
              "      <th>param_normalize</th>\n",
              "      <th>params</th>\n",
              "      <th>split0_test_score</th>\n",
              "      <th>split1_test_score</th>\n",
              "      <th>split2_test_score</th>\n",
              "      <th>split3_test_score</th>\n",
              "      <th>mean_test_score</th>\n",
              "      <th>std_test_score</th>\n",
              "      <th>rank_test_score</th>\n",
              "    </tr>\n",
              "  </thead>\n",
              "  <tbody>\n",
              "    <tr>\n",
              "      <th>2</th>\n",
              "      <td>0.1</td>\n",
              "      <td>True</td>\n",
              "      <td>{'alpha': 0.1, 'normalize': True}</td>\n",
              "      <td>0.844728</td>\n",
              "      <td>0.792146</td>\n",
              "      <td>0.648034</td>\n",
              "      <td>0.488784</td>\n",
              "      <td>0.693423</td>\n",
              "      <td>0.138362</td>\n",
              "      <td>1</td>\n",
              "    </tr>\n",
              "    <tr>\n",
              "      <th>4</th>\n",
              "      <td>1</td>\n",
              "      <td>True</td>\n",
              "      <td>{'alpha': 1, 'normalize': True}</td>\n",
              "      <td>0.786856</td>\n",
              "      <td>0.725714</td>\n",
              "      <td>0.663742</td>\n",
              "      <td>0.583709</td>\n",
              "      <td>0.690005</td>\n",
              "      <td>0.075239</td>\n",
              "      <td>2</td>\n",
              "    </tr>\n",
              "    <tr>\n",
              "      <th>13</th>\n",
              "      <td>10000</td>\n",
              "      <td>False</td>\n",
              "      <td>{'alpha': 10000, 'normalize': False}</td>\n",
              "      <td>0.844282</td>\n",
              "      <td>0.794231</td>\n",
              "      <td>0.568166</td>\n",
              "      <td>0.483288</td>\n",
              "      <td>0.672492</td>\n",
              "      <td>0.150843</td>\n",
              "      <td>3</td>\n",
              "    </tr>\n",
              "    <tr>\n",
              "      <th>11</th>\n",
              "      <td>1000</td>\n",
              "      <td>False</td>\n",
              "      <td>{'alpha': 1000, 'normalize': False}</td>\n",
              "      <td>0.844694</td>\n",
              "      <td>0.788675</td>\n",
              "      <td>0.572385</td>\n",
              "      <td>0.466606</td>\n",
              "      <td>0.668090</td>\n",
              "      <td>0.154503</td>\n",
              "      <td>4</td>\n",
              "    </tr>\n",
              "    <tr>\n",
              "      <th>0</th>\n",
              "      <td>0.001</td>\n",
              "      <td>True</td>\n",
              "      <td>{'alpha': 0.001, 'normalize': True}</td>\n",
              "      <td>0.844695</td>\n",
              "      <td>0.786160</td>\n",
              "      <td>0.565751</td>\n",
              "      <td>0.464044</td>\n",
              "      <td>0.665162</td>\n",
              "      <td>0.155888</td>\n",
              "      <td>5</td>\n",
              "    </tr>\n",
              "    <tr>\n",
              "      <th>9</th>\n",
              "      <td>100</td>\n",
              "      <td>False</td>\n",
              "      <td>{'alpha': 100, 'normalize': False}</td>\n",
              "      <td>0.844672</td>\n",
              "      <td>0.786314</td>\n",
              "      <td>0.565492</td>\n",
              "      <td>0.464066</td>\n",
              "      <td>0.665136</td>\n",
              "      <td>0.155945</td>\n",
              "      <td>6</td>\n",
              "    </tr>\n",
              "    <tr>\n",
              "      <th>7</th>\n",
              "      <td>10</td>\n",
              "      <td>False</td>\n",
              "      <td>{'alpha': 10, 'normalize': False}</td>\n",
              "      <td>0.844666</td>\n",
              "      <td>0.785937</td>\n",
              "      <td>0.564268</td>\n",
              "      <td>0.463729</td>\n",
              "      <td>0.664650</td>\n",
              "      <td>0.156175</td>\n",
              "      <td>7</td>\n",
              "    </tr>\n",
              "    <tr>\n",
              "      <th>5</th>\n",
              "      <td>1</td>\n",
              "      <td>False</td>\n",
              "      <td>{'alpha': 1, 'normalize': False}</td>\n",
              "      <td>0.844666</td>\n",
              "      <td>0.785897</td>\n",
              "      <td>0.564137</td>\n",
              "      <td>0.463693</td>\n",
              "      <td>0.664598</td>\n",
              "      <td>0.156199</td>\n",
              "      <td>8</td>\n",
              "    </tr>\n",
              "    <tr>\n",
              "      <th>3</th>\n",
              "      <td>0.1</td>\n",
              "      <td>False</td>\n",
              "      <td>{'alpha': 0.1, 'normalize': False}</td>\n",
              "      <td>0.844666</td>\n",
              "      <td>0.785893</td>\n",
              "      <td>0.564124</td>\n",
              "      <td>0.463690</td>\n",
              "      <td>0.664593</td>\n",
              "      <td>0.156202</td>\n",
              "      <td>9</td>\n",
              "    </tr>\n",
              "    <tr>\n",
              "      <th>1</th>\n",
              "      <td>0.001</td>\n",
              "      <td>False</td>\n",
              "      <td>{'alpha': 0.001, 'normalize': False}</td>\n",
              "      <td>0.844666</td>\n",
              "      <td>0.785892</td>\n",
              "      <td>0.564122</td>\n",
              "      <td>0.463690</td>\n",
              "      <td>0.664592</td>\n",
              "      <td>0.156202</td>\n",
              "      <td>10</td>\n",
              "    </tr>\n",
              "    <tr>\n",
              "      <th>15</th>\n",
              "      <td>100000</td>\n",
              "      <td>False</td>\n",
              "      <td>{'alpha': 100000, 'normalize': False}</td>\n",
              "      <td>0.827067</td>\n",
              "      <td>0.806946</td>\n",
              "      <td>0.454080</td>\n",
              "      <td>0.539797</td>\n",
              "      <td>0.656973</td>\n",
              "      <td>0.163034</td>\n",
              "      <td>11</td>\n",
              "    </tr>\n",
              "    <tr>\n",
              "      <th>17</th>\n",
              "      <td>100000</td>\n",
              "      <td>False</td>\n",
              "      <td>{'alpha': 100000, 'normalize': False}</td>\n",
              "      <td>0.827067</td>\n",
              "      <td>0.806946</td>\n",
              "      <td>0.454080</td>\n",
              "      <td>0.539797</td>\n",
              "      <td>0.656973</td>\n",
              "      <td>0.163034</td>\n",
              "      <td>11</td>\n",
              "    </tr>\n",
              "    <tr>\n",
              "      <th>6</th>\n",
              "      <td>10</td>\n",
              "      <td>True</td>\n",
              "      <td>{'alpha': 10, 'normalize': True}</td>\n",
              "      <td>0.345685</td>\n",
              "      <td>0.313034</td>\n",
              "      <td>0.306478</td>\n",
              "      <td>0.319825</td>\n",
              "      <td>0.321255</td>\n",
              "      <td>0.014873</td>\n",
              "      <td>13</td>\n",
              "    </tr>\n",
              "    <tr>\n",
              "      <th>8</th>\n",
              "      <td>100</td>\n",
              "      <td>True</td>\n",
              "      <td>{'alpha': 100, 'normalize': True}</td>\n",
              "      <td>0.043176</td>\n",
              "      <td>0.037118</td>\n",
              "      <td>0.044021</td>\n",
              "      <td>-0.056617</td>\n",
              "      <td>0.016925</td>\n",
              "      <td>0.042543</td>\n",
              "      <td>14</td>\n",
              "    </tr>\n",
              "    <tr>\n",
              "      <th>10</th>\n",
              "      <td>1000</td>\n",
              "      <td>True</td>\n",
              "      <td>{'alpha': 1000, 'normalize': True}</td>\n",
              "      <td>-0.002003</td>\n",
              "      <td>-0.004199</td>\n",
              "      <td>0.003921</td>\n",
              "      <td>-0.119067</td>\n",
              "      <td>-0.030337</td>\n",
              "      <td>0.051314</td>\n",
              "      <td>15</td>\n",
              "    </tr>\n",
              "    <tr>\n",
              "      <th>12</th>\n",
              "      <td>10000</td>\n",
              "      <td>True</td>\n",
              "      <td>{'alpha': 10000, 'normalize': True}</td>\n",
              "      <td>-0.006736</td>\n",
              "      <td>-0.008530</td>\n",
              "      <td>-0.000293</td>\n",
              "      <td>-0.125686</td>\n",
              "      <td>-0.035311</td>\n",
              "      <td>0.052268</td>\n",
              "      <td>16</td>\n",
              "    </tr>\n",
              "    <tr>\n",
              "      <th>16</th>\n",
              "      <td>100000</td>\n",
              "      <td>True</td>\n",
              "      <td>{'alpha': 100000, 'normalize': True}</td>\n",
              "      <td>-0.007211</td>\n",
              "      <td>-0.008965</td>\n",
              "      <td>-0.000716</td>\n",
              "      <td>-0.126351</td>\n",
              "      <td>-0.035811</td>\n",
              "      <td>0.052364</td>\n",
              "      <td>17</td>\n",
              "    </tr>\n",
              "    <tr>\n",
              "      <th>14</th>\n",
              "      <td>100000</td>\n",
              "      <td>True</td>\n",
              "      <td>{'alpha': 100000, 'normalize': True}</td>\n",
              "      <td>-0.007211</td>\n",
              "      <td>-0.008965</td>\n",
              "      <td>-0.000716</td>\n",
              "      <td>-0.126351</td>\n",
              "      <td>-0.035811</td>\n",
              "      <td>0.052364</td>\n",
              "      <td>17</td>\n",
              "    </tr>\n",
              "  </tbody>\n",
              "</table>\n",
              "</div>\n",
              "      <button class=\"colab-df-convert\" onclick=\"convertToInteractive('df-5bc299f8-5e29-4756-837a-a3f1d1434875')\"\n",
              "              title=\"Convert this dataframe to an interactive table.\"\n",
              "              style=\"display:none;\">\n",
              "        \n",
              "  <svg xmlns=\"http://www.w3.org/2000/svg\" height=\"24px\"viewBox=\"0 0 24 24\"\n",
              "       width=\"24px\">\n",
              "    <path d=\"M0 0h24v24H0V0z\" fill=\"none\"/>\n",
              "    <path d=\"M18.56 5.44l.94 2.06.94-2.06 2.06-.94-2.06-.94-.94-2.06-.94 2.06-2.06.94zm-11 1L8.5 8.5l.94-2.06 2.06-.94-2.06-.94L8.5 2.5l-.94 2.06-2.06.94zm10 10l.94 2.06.94-2.06 2.06-.94-2.06-.94-.94-2.06-.94 2.06-2.06.94z\"/><path d=\"M17.41 7.96l-1.37-1.37c-.4-.4-.92-.59-1.43-.59-.52 0-1.04.2-1.43.59L10.3 9.45l-7.72 7.72c-.78.78-.78 2.05 0 2.83L4 21.41c.39.39.9.59 1.41.59.51 0 1.02-.2 1.41-.59l7.78-7.78 2.81-2.81c.8-.78.8-2.07 0-2.86zM5.41 20L4 18.59l7.72-7.72 1.47 1.35L5.41 20z\"/>\n",
              "  </svg>\n",
              "      </button>\n",
              "      \n",
              "  <style>\n",
              "    .colab-df-container {\n",
              "      display:flex;\n",
              "      flex-wrap:wrap;\n",
              "      gap: 12px;\n",
              "    }\n",
              "\n",
              "    .colab-df-convert {\n",
              "      background-color: #E8F0FE;\n",
              "      border: none;\n",
              "      border-radius: 50%;\n",
              "      cursor: pointer;\n",
              "      display: none;\n",
              "      fill: #1967D2;\n",
              "      height: 32px;\n",
              "      padding: 0 0 0 0;\n",
              "      width: 32px;\n",
              "    }\n",
              "\n",
              "    .colab-df-convert:hover {\n",
              "      background-color: #E2EBFA;\n",
              "      box-shadow: 0px 1px 2px rgba(60, 64, 67, 0.3), 0px 1px 3px 1px rgba(60, 64, 67, 0.15);\n",
              "      fill: #174EA6;\n",
              "    }\n",
              "\n",
              "    [theme=dark] .colab-df-convert {\n",
              "      background-color: #3B4455;\n",
              "      fill: #D2E3FC;\n",
              "    }\n",
              "\n",
              "    [theme=dark] .colab-df-convert:hover {\n",
              "      background-color: #434B5C;\n",
              "      box-shadow: 0px 1px 3px 1px rgba(0, 0, 0, 0.15);\n",
              "      filter: drop-shadow(0px 1px 2px rgba(0, 0, 0, 0.3));\n",
              "      fill: #FFFFFF;\n",
              "    }\n",
              "  </style>\n",
              "\n",
              "      <script>\n",
              "        const buttonEl =\n",
              "          document.querySelector('#df-5bc299f8-5e29-4756-837a-a3f1d1434875 button.colab-df-convert');\n",
              "        buttonEl.style.display =\n",
              "          google.colab.kernel.accessAllowed ? 'block' : 'none';\n",
              "\n",
              "        async function convertToInteractive(key) {\n",
              "          const element = document.querySelector('#df-5bc299f8-5e29-4756-837a-a3f1d1434875');\n",
              "          const dataTable =\n",
              "            await google.colab.kernel.invokeFunction('convertToInteractive',\n",
              "                                                     [key], {});\n",
              "          if (!dataTable) return;\n",
              "\n",
              "          const docLinkHtml = 'Like what you see? Visit the ' +\n",
              "            '<a target=\"_blank\" href=https://colab.research.google.com/notebooks/data_table.ipynb>data table notebook</a>'\n",
              "            + ' to learn more about interactive tables.';\n",
              "          element.innerHTML = '';\n",
              "          dataTable['output_type'] = 'display_data';\n",
              "          await google.colab.output.renderOutput(dataTable, element);\n",
              "          const docLink = document.createElement('div');\n",
              "          docLink.innerHTML = docLinkHtml;\n",
              "          element.appendChild(docLink);\n",
              "        }\n",
              "      </script>\n",
              "    </div>\n",
              "  </div>\n",
              "  "
            ]
          },
          "metadata": {},
          "execution_count": 112
        }
      ]
    },
    {
      "cell_type": "code",
      "source": [
        "BestRR2.score(x_test[['horsepower', 'curb-weight', 'engine-size', 'highway-mpg']], y_test)"
      ],
      "metadata": {
        "colab": {
          "base_uri": "https://localhost:8080/"
        },
        "id": "0-84OwT5E5Rp",
        "outputId": "92f0b42f-b6c8-4f36-9522-fe8b5b6435f0"
      },
      "execution_count": 101,
      "outputs": [
        {
          "output_type": "execute_result",
          "data": {
            "text/plain": [
              "0.8408597192943011"
            ]
          },
          "metadata": {},
          "execution_count": 101
        }
      ]
    },
    {
      "cell_type": "code",
      "source": [
        "parameters2= [{'alpha': [0.001,0.1,1, 10, 100, 1000,10000,100000,100000],'normalize':[True,False]} ]\n",
        "Grid2 = GridSearchCV(Ridge(), parameters2,cv=4)\n",
        "Grid2.fit(x_data[['horsepower', 'curb-weight', 'engine-size', 'highway-mpg']],y_data)\n",
        "Grid2.best_estimator_"
      ],
      "metadata": {
        "colab": {
          "base_uri": "https://localhost:8080/"
        },
        "id": "PD8V5dooFZcX",
        "outputId": "68f85a09-780f-4554-bd77-272699fef54d"
      },
      "execution_count": 113,
      "outputs": [
        {
          "output_type": "stream",
          "name": "stderr",
          "text": [
            "/usr/local/lib/python3.7/dist-packages/sklearn/linear_model/_base.py:145: FutureWarning: 'normalize' was deprecated in version 1.0 and will be removed in 1.2.\n",
            "If you wish to scale the data, use Pipeline with a StandardScaler in a preprocessing stage. To reproduce the previous behavior:\n",
            "\n",
            "from sklearn.pipeline import make_pipeline\n",
            "\n",
            "model = make_pipeline(StandardScaler(with_mean=False), Ridge())\n",
            "\n",
            "If you wish to pass a sample_weight parameter, you need to pass it as a fit parameter to each step of the pipeline as follows:\n",
            "\n",
            "kwargs = {s[0] + '__sample_weight': sample_weight for s in model.steps}\n",
            "model.fit(X, y, **kwargs)\n",
            "\n",
            "Set parameter alpha to: original_alpha * n_samples. \n",
            "  FutureWarning,\n",
            "/usr/local/lib/python3.7/dist-packages/sklearn/linear_model/_base.py:145: FutureWarning: 'normalize' was deprecated in version 1.0 and will be removed in 1.2.\n",
            "If you wish to scale the data, use Pipeline with a StandardScaler in a preprocessing stage. To reproduce the previous behavior:\n",
            "\n",
            "from sklearn.pipeline import make_pipeline\n",
            "\n",
            "model = make_pipeline(StandardScaler(with_mean=False), Ridge())\n",
            "\n",
            "If you wish to pass a sample_weight parameter, you need to pass it as a fit parameter to each step of the pipeline as follows:\n",
            "\n",
            "kwargs = {s[0] + '__sample_weight': sample_weight for s in model.steps}\n",
            "model.fit(X, y, **kwargs)\n",
            "\n",
            "Set parameter alpha to: original_alpha * n_samples. \n",
            "  FutureWarning,\n",
            "/usr/local/lib/python3.7/dist-packages/sklearn/linear_model/_base.py:145: FutureWarning: 'normalize' was deprecated in version 1.0 and will be removed in 1.2.\n",
            "If you wish to scale the data, use Pipeline with a StandardScaler in a preprocessing stage. To reproduce the previous behavior:\n",
            "\n",
            "from sklearn.pipeline import make_pipeline\n",
            "\n",
            "model = make_pipeline(StandardScaler(with_mean=False), Ridge())\n",
            "\n",
            "If you wish to pass a sample_weight parameter, you need to pass it as a fit parameter to each step of the pipeline as follows:\n",
            "\n",
            "kwargs = {s[0] + '__sample_weight': sample_weight for s in model.steps}\n",
            "model.fit(X, y, **kwargs)\n",
            "\n",
            "Set parameter alpha to: original_alpha * n_samples. \n",
            "  FutureWarning,\n",
            "/usr/local/lib/python3.7/dist-packages/sklearn/linear_model/_base.py:145: FutureWarning: 'normalize' was deprecated in version 1.0 and will be removed in 1.2.\n",
            "If you wish to scale the data, use Pipeline with a StandardScaler in a preprocessing stage. To reproduce the previous behavior:\n",
            "\n",
            "from sklearn.pipeline import make_pipeline\n",
            "\n",
            "model = make_pipeline(StandardScaler(with_mean=False), Ridge())\n",
            "\n",
            "If you wish to pass a sample_weight parameter, you need to pass it as a fit parameter to each step of the pipeline as follows:\n",
            "\n",
            "kwargs = {s[0] + '__sample_weight': sample_weight for s in model.steps}\n",
            "model.fit(X, y, **kwargs)\n",
            "\n",
            "Set parameter alpha to: original_alpha * n_samples. \n",
            "  FutureWarning,\n",
            "/usr/local/lib/python3.7/dist-packages/sklearn/linear_model/_base.py:155: FutureWarning: 'normalize' was deprecated in version 1.0 and will be removed in 1.2. Please leave the normalize parameter to its default value to silence this warning. The default behavior of this estimator is to not do any normalization. If normalization is needed please use sklearn.preprocessing.StandardScaler instead.\n",
            "  FutureWarning,\n",
            "/usr/local/lib/python3.7/dist-packages/sklearn/linear_model/_base.py:155: FutureWarning: 'normalize' was deprecated in version 1.0 and will be removed in 1.2. Please leave the normalize parameter to its default value to silence this warning. The default behavior of this estimator is to not do any normalization. If normalization is needed please use sklearn.preprocessing.StandardScaler instead.\n",
            "  FutureWarning,\n",
            "/usr/local/lib/python3.7/dist-packages/sklearn/linear_model/_base.py:155: FutureWarning: 'normalize' was deprecated in version 1.0 and will be removed in 1.2. Please leave the normalize parameter to its default value to silence this warning. The default behavior of this estimator is to not do any normalization. If normalization is needed please use sklearn.preprocessing.StandardScaler instead.\n",
            "  FutureWarning,\n",
            "/usr/local/lib/python3.7/dist-packages/sklearn/linear_model/_base.py:155: FutureWarning: 'normalize' was deprecated in version 1.0 and will be removed in 1.2. Please leave the normalize parameter to its default value to silence this warning. The default behavior of this estimator is to not do any normalization. If normalization is needed please use sklearn.preprocessing.StandardScaler instead.\n",
            "  FutureWarning,\n",
            "/usr/local/lib/python3.7/dist-packages/sklearn/linear_model/_base.py:145: FutureWarning: 'normalize' was deprecated in version 1.0 and will be removed in 1.2.\n",
            "If you wish to scale the data, use Pipeline with a StandardScaler in a preprocessing stage. To reproduce the previous behavior:\n",
            "\n",
            "from sklearn.pipeline import make_pipeline\n",
            "\n",
            "model = make_pipeline(StandardScaler(with_mean=False), Ridge())\n",
            "\n",
            "If you wish to pass a sample_weight parameter, you need to pass it as a fit parameter to each step of the pipeline as follows:\n",
            "\n",
            "kwargs = {s[0] + '__sample_weight': sample_weight for s in model.steps}\n",
            "model.fit(X, y, **kwargs)\n",
            "\n",
            "Set parameter alpha to: original_alpha * n_samples. \n",
            "  FutureWarning,\n",
            "/usr/local/lib/python3.7/dist-packages/sklearn/linear_model/_base.py:145: FutureWarning: 'normalize' was deprecated in version 1.0 and will be removed in 1.2.\n",
            "If you wish to scale the data, use Pipeline with a StandardScaler in a preprocessing stage. To reproduce the previous behavior:\n",
            "\n",
            "from sklearn.pipeline import make_pipeline\n",
            "\n",
            "model = make_pipeline(StandardScaler(with_mean=False), Ridge())\n",
            "\n",
            "If you wish to pass a sample_weight parameter, you need to pass it as a fit parameter to each step of the pipeline as follows:\n",
            "\n",
            "kwargs = {s[0] + '__sample_weight': sample_weight for s in model.steps}\n",
            "model.fit(X, y, **kwargs)\n",
            "\n",
            "Set parameter alpha to: original_alpha * n_samples. \n",
            "  FutureWarning,\n",
            "/usr/local/lib/python3.7/dist-packages/sklearn/linear_model/_base.py:145: FutureWarning: 'normalize' was deprecated in version 1.0 and will be removed in 1.2.\n",
            "If you wish to scale the data, use Pipeline with a StandardScaler in a preprocessing stage. To reproduce the previous behavior:\n",
            "\n",
            "from sklearn.pipeline import make_pipeline\n",
            "\n",
            "model = make_pipeline(StandardScaler(with_mean=False), Ridge())\n",
            "\n",
            "If you wish to pass a sample_weight parameter, you need to pass it as a fit parameter to each step of the pipeline as follows:\n",
            "\n",
            "kwargs = {s[0] + '__sample_weight': sample_weight for s in model.steps}\n",
            "model.fit(X, y, **kwargs)\n",
            "\n",
            "Set parameter alpha to: original_alpha * n_samples. \n",
            "  FutureWarning,\n",
            "/usr/local/lib/python3.7/dist-packages/sklearn/linear_model/_base.py:145: FutureWarning: 'normalize' was deprecated in version 1.0 and will be removed in 1.2.\n",
            "If you wish to scale the data, use Pipeline with a StandardScaler in a preprocessing stage. To reproduce the previous behavior:\n",
            "\n",
            "from sklearn.pipeline import make_pipeline\n",
            "\n",
            "model = make_pipeline(StandardScaler(with_mean=False), Ridge())\n",
            "\n",
            "If you wish to pass a sample_weight parameter, you need to pass it as a fit parameter to each step of the pipeline as follows:\n",
            "\n",
            "kwargs = {s[0] + '__sample_weight': sample_weight for s in model.steps}\n",
            "model.fit(X, y, **kwargs)\n",
            "\n",
            "Set parameter alpha to: original_alpha * n_samples. \n",
            "  FutureWarning,\n",
            "/usr/local/lib/python3.7/dist-packages/sklearn/linear_model/_base.py:155: FutureWarning: 'normalize' was deprecated in version 1.0 and will be removed in 1.2. Please leave the normalize parameter to its default value to silence this warning. The default behavior of this estimator is to not do any normalization. If normalization is needed please use sklearn.preprocessing.StandardScaler instead.\n",
            "  FutureWarning,\n",
            "/usr/local/lib/python3.7/dist-packages/sklearn/linear_model/_base.py:155: FutureWarning: 'normalize' was deprecated in version 1.0 and will be removed in 1.2. Please leave the normalize parameter to its default value to silence this warning. The default behavior of this estimator is to not do any normalization. If normalization is needed please use sklearn.preprocessing.StandardScaler instead.\n",
            "  FutureWarning,\n",
            "/usr/local/lib/python3.7/dist-packages/sklearn/linear_model/_base.py:155: FutureWarning: 'normalize' was deprecated in version 1.0 and will be removed in 1.2. Please leave the normalize parameter to its default value to silence this warning. The default behavior of this estimator is to not do any normalization. If normalization is needed please use sklearn.preprocessing.StandardScaler instead.\n",
            "  FutureWarning,\n",
            "/usr/local/lib/python3.7/dist-packages/sklearn/linear_model/_base.py:155: FutureWarning: 'normalize' was deprecated in version 1.0 and will be removed in 1.2. Please leave the normalize parameter to its default value to silence this warning. The default behavior of this estimator is to not do any normalization. If normalization is needed please use sklearn.preprocessing.StandardScaler instead.\n",
            "  FutureWarning,\n",
            "/usr/local/lib/python3.7/dist-packages/sklearn/linear_model/_base.py:145: FutureWarning: 'normalize' was deprecated in version 1.0 and will be removed in 1.2.\n",
            "If you wish to scale the data, use Pipeline with a StandardScaler in a preprocessing stage. To reproduce the previous behavior:\n",
            "\n",
            "from sklearn.pipeline import make_pipeline\n",
            "\n",
            "model = make_pipeline(StandardScaler(with_mean=False), Ridge())\n",
            "\n",
            "If you wish to pass a sample_weight parameter, you need to pass it as a fit parameter to each step of the pipeline as follows:\n",
            "\n",
            "kwargs = {s[0] + '__sample_weight': sample_weight for s in model.steps}\n",
            "model.fit(X, y, **kwargs)\n",
            "\n",
            "Set parameter alpha to: original_alpha * n_samples. \n",
            "  FutureWarning,\n",
            "/usr/local/lib/python3.7/dist-packages/sklearn/linear_model/_base.py:145: FutureWarning: 'normalize' was deprecated in version 1.0 and will be removed in 1.2.\n",
            "If you wish to scale the data, use Pipeline with a StandardScaler in a preprocessing stage. To reproduce the previous behavior:\n",
            "\n",
            "from sklearn.pipeline import make_pipeline\n",
            "\n",
            "model = make_pipeline(StandardScaler(with_mean=False), Ridge())\n",
            "\n",
            "If you wish to pass a sample_weight parameter, you need to pass it as a fit parameter to each step of the pipeline as follows:\n",
            "\n",
            "kwargs = {s[0] + '__sample_weight': sample_weight for s in model.steps}\n",
            "model.fit(X, y, **kwargs)\n",
            "\n",
            "Set parameter alpha to: original_alpha * n_samples. \n",
            "  FutureWarning,\n",
            "/usr/local/lib/python3.7/dist-packages/sklearn/linear_model/_base.py:145: FutureWarning: 'normalize' was deprecated in version 1.0 and will be removed in 1.2.\n",
            "If you wish to scale the data, use Pipeline with a StandardScaler in a preprocessing stage. To reproduce the previous behavior:\n",
            "\n",
            "from sklearn.pipeline import make_pipeline\n",
            "\n",
            "model = make_pipeline(StandardScaler(with_mean=False), Ridge())\n",
            "\n",
            "If you wish to pass a sample_weight parameter, you need to pass it as a fit parameter to each step of the pipeline as follows:\n",
            "\n",
            "kwargs = {s[0] + '__sample_weight': sample_weight for s in model.steps}\n",
            "model.fit(X, y, **kwargs)\n",
            "\n",
            "Set parameter alpha to: original_alpha * n_samples. \n",
            "  FutureWarning,\n",
            "/usr/local/lib/python3.7/dist-packages/sklearn/linear_model/_base.py:145: FutureWarning: 'normalize' was deprecated in version 1.0 and will be removed in 1.2.\n",
            "If you wish to scale the data, use Pipeline with a StandardScaler in a preprocessing stage. To reproduce the previous behavior:\n",
            "\n",
            "from sklearn.pipeline import make_pipeline\n",
            "\n",
            "model = make_pipeline(StandardScaler(with_mean=False), Ridge())\n",
            "\n",
            "If you wish to pass a sample_weight parameter, you need to pass it as a fit parameter to each step of the pipeline as follows:\n",
            "\n",
            "kwargs = {s[0] + '__sample_weight': sample_weight for s in model.steps}\n",
            "model.fit(X, y, **kwargs)\n",
            "\n",
            "Set parameter alpha to: original_alpha * n_samples. \n",
            "  FutureWarning,\n",
            "/usr/local/lib/python3.7/dist-packages/sklearn/linear_model/_base.py:155: FutureWarning: 'normalize' was deprecated in version 1.0 and will be removed in 1.2. Please leave the normalize parameter to its default value to silence this warning. The default behavior of this estimator is to not do any normalization. If normalization is needed please use sklearn.preprocessing.StandardScaler instead.\n",
            "  FutureWarning,\n",
            "/usr/local/lib/python3.7/dist-packages/sklearn/linear_model/_base.py:155: FutureWarning: 'normalize' was deprecated in version 1.0 and will be removed in 1.2. Please leave the normalize parameter to its default value to silence this warning. The default behavior of this estimator is to not do any normalization. If normalization is needed please use sklearn.preprocessing.StandardScaler instead.\n",
            "  FutureWarning,\n",
            "/usr/local/lib/python3.7/dist-packages/sklearn/linear_model/_base.py:155: FutureWarning: 'normalize' was deprecated in version 1.0 and will be removed in 1.2. Please leave the normalize parameter to its default value to silence this warning. The default behavior of this estimator is to not do any normalization. If normalization is needed please use sklearn.preprocessing.StandardScaler instead.\n",
            "  FutureWarning,\n",
            "/usr/local/lib/python3.7/dist-packages/sklearn/linear_model/_base.py:155: FutureWarning: 'normalize' was deprecated in version 1.0 and will be removed in 1.2. Please leave the normalize parameter to its default value to silence this warning. The default behavior of this estimator is to not do any normalization. If normalization is needed please use sklearn.preprocessing.StandardScaler instead.\n",
            "  FutureWarning,\n",
            "/usr/local/lib/python3.7/dist-packages/sklearn/linear_model/_base.py:145: FutureWarning: 'normalize' was deprecated in version 1.0 and will be removed in 1.2.\n",
            "If you wish to scale the data, use Pipeline with a StandardScaler in a preprocessing stage. To reproduce the previous behavior:\n",
            "\n",
            "from sklearn.pipeline import make_pipeline\n",
            "\n",
            "model = make_pipeline(StandardScaler(with_mean=False), Ridge())\n",
            "\n",
            "If you wish to pass a sample_weight parameter, you need to pass it as a fit parameter to each step of the pipeline as follows:\n",
            "\n",
            "kwargs = {s[0] + '__sample_weight': sample_weight for s in model.steps}\n",
            "model.fit(X, y, **kwargs)\n",
            "\n",
            "Set parameter alpha to: original_alpha * n_samples. \n",
            "  FutureWarning,\n",
            "/usr/local/lib/python3.7/dist-packages/sklearn/linear_model/_base.py:145: FutureWarning: 'normalize' was deprecated in version 1.0 and will be removed in 1.2.\n",
            "If you wish to scale the data, use Pipeline with a StandardScaler in a preprocessing stage. To reproduce the previous behavior:\n",
            "\n",
            "from sklearn.pipeline import make_pipeline\n",
            "\n",
            "model = make_pipeline(StandardScaler(with_mean=False), Ridge())\n",
            "\n",
            "If you wish to pass a sample_weight parameter, you need to pass it as a fit parameter to each step of the pipeline as follows:\n",
            "\n",
            "kwargs = {s[0] + '__sample_weight': sample_weight for s in model.steps}\n",
            "model.fit(X, y, **kwargs)\n",
            "\n",
            "Set parameter alpha to: original_alpha * n_samples. \n",
            "  FutureWarning,\n",
            "/usr/local/lib/python3.7/dist-packages/sklearn/linear_model/_base.py:145: FutureWarning: 'normalize' was deprecated in version 1.0 and will be removed in 1.2.\n",
            "If you wish to scale the data, use Pipeline with a StandardScaler in a preprocessing stage. To reproduce the previous behavior:\n",
            "\n",
            "from sklearn.pipeline import make_pipeline\n",
            "\n",
            "model = make_pipeline(StandardScaler(with_mean=False), Ridge())\n",
            "\n",
            "If you wish to pass a sample_weight parameter, you need to pass it as a fit parameter to each step of the pipeline as follows:\n",
            "\n",
            "kwargs = {s[0] + '__sample_weight': sample_weight for s in model.steps}\n",
            "model.fit(X, y, **kwargs)\n",
            "\n",
            "Set parameter alpha to: original_alpha * n_samples. \n",
            "  FutureWarning,\n",
            "/usr/local/lib/python3.7/dist-packages/sklearn/linear_model/_base.py:145: FutureWarning: 'normalize' was deprecated in version 1.0 and will be removed in 1.2.\n",
            "If you wish to scale the data, use Pipeline with a StandardScaler in a preprocessing stage. To reproduce the previous behavior:\n",
            "\n",
            "from sklearn.pipeline import make_pipeline\n",
            "\n",
            "model = make_pipeline(StandardScaler(with_mean=False), Ridge())\n",
            "\n",
            "If you wish to pass a sample_weight parameter, you need to pass it as a fit parameter to each step of the pipeline as follows:\n",
            "\n",
            "kwargs = {s[0] + '__sample_weight': sample_weight for s in model.steps}\n",
            "model.fit(X, y, **kwargs)\n",
            "\n",
            "Set parameter alpha to: original_alpha * n_samples. \n",
            "  FutureWarning,\n",
            "/usr/local/lib/python3.7/dist-packages/sklearn/linear_model/_base.py:155: FutureWarning: 'normalize' was deprecated in version 1.0 and will be removed in 1.2. Please leave the normalize parameter to its default value to silence this warning. The default behavior of this estimator is to not do any normalization. If normalization is needed please use sklearn.preprocessing.StandardScaler instead.\n",
            "  FutureWarning,\n",
            "/usr/local/lib/python3.7/dist-packages/sklearn/linear_model/_base.py:155: FutureWarning: 'normalize' was deprecated in version 1.0 and will be removed in 1.2. Please leave the normalize parameter to its default value to silence this warning. The default behavior of this estimator is to not do any normalization. If normalization is needed please use sklearn.preprocessing.StandardScaler instead.\n",
            "  FutureWarning,\n",
            "/usr/local/lib/python3.7/dist-packages/sklearn/linear_model/_base.py:155: FutureWarning: 'normalize' was deprecated in version 1.0 and will be removed in 1.2. Please leave the normalize parameter to its default value to silence this warning. The default behavior of this estimator is to not do any normalization. If normalization is needed please use sklearn.preprocessing.StandardScaler instead.\n",
            "  FutureWarning,\n",
            "/usr/local/lib/python3.7/dist-packages/sklearn/linear_model/_base.py:155: FutureWarning: 'normalize' was deprecated in version 1.0 and will be removed in 1.2. Please leave the normalize parameter to its default value to silence this warning. The default behavior of this estimator is to not do any normalization. If normalization is needed please use sklearn.preprocessing.StandardScaler instead.\n",
            "  FutureWarning,\n",
            "/usr/local/lib/python3.7/dist-packages/sklearn/linear_model/_base.py:145: FutureWarning: 'normalize' was deprecated in version 1.0 and will be removed in 1.2.\n",
            "If you wish to scale the data, use Pipeline with a StandardScaler in a preprocessing stage. To reproduce the previous behavior:\n",
            "\n",
            "from sklearn.pipeline import make_pipeline\n",
            "\n",
            "model = make_pipeline(StandardScaler(with_mean=False), Ridge())\n",
            "\n",
            "If you wish to pass a sample_weight parameter, you need to pass it as a fit parameter to each step of the pipeline as follows:\n",
            "\n",
            "kwargs = {s[0] + '__sample_weight': sample_weight for s in model.steps}\n",
            "model.fit(X, y, **kwargs)\n",
            "\n",
            "Set parameter alpha to: original_alpha * n_samples. \n",
            "  FutureWarning,\n",
            "/usr/local/lib/python3.7/dist-packages/sklearn/linear_model/_base.py:145: FutureWarning: 'normalize' was deprecated in version 1.0 and will be removed in 1.2.\n",
            "If you wish to scale the data, use Pipeline with a StandardScaler in a preprocessing stage. To reproduce the previous behavior:\n",
            "\n",
            "from sklearn.pipeline import make_pipeline\n",
            "\n",
            "model = make_pipeline(StandardScaler(with_mean=False), Ridge())\n",
            "\n",
            "If you wish to pass a sample_weight parameter, you need to pass it as a fit parameter to each step of the pipeline as follows:\n",
            "\n",
            "kwargs = {s[0] + '__sample_weight': sample_weight for s in model.steps}\n",
            "model.fit(X, y, **kwargs)\n",
            "\n",
            "Set parameter alpha to: original_alpha * n_samples. \n",
            "  FutureWarning,\n",
            "/usr/local/lib/python3.7/dist-packages/sklearn/linear_model/_base.py:145: FutureWarning: 'normalize' was deprecated in version 1.0 and will be removed in 1.2.\n",
            "If you wish to scale the data, use Pipeline with a StandardScaler in a preprocessing stage. To reproduce the previous behavior:\n",
            "\n",
            "from sklearn.pipeline import make_pipeline\n",
            "\n",
            "model = make_pipeline(StandardScaler(with_mean=False), Ridge())\n",
            "\n",
            "If you wish to pass a sample_weight parameter, you need to pass it as a fit parameter to each step of the pipeline as follows:\n",
            "\n",
            "kwargs = {s[0] + '__sample_weight': sample_weight for s in model.steps}\n",
            "model.fit(X, y, **kwargs)\n",
            "\n",
            "Set parameter alpha to: original_alpha * n_samples. \n",
            "  FutureWarning,\n",
            "/usr/local/lib/python3.7/dist-packages/sklearn/linear_model/_base.py:145: FutureWarning: 'normalize' was deprecated in version 1.0 and will be removed in 1.2.\n",
            "If you wish to scale the data, use Pipeline with a StandardScaler in a preprocessing stage. To reproduce the previous behavior:\n",
            "\n",
            "from sklearn.pipeline import make_pipeline\n",
            "\n",
            "model = make_pipeline(StandardScaler(with_mean=False), Ridge())\n",
            "\n",
            "If you wish to pass a sample_weight parameter, you need to pass it as a fit parameter to each step of the pipeline as follows:\n",
            "\n",
            "kwargs = {s[0] + '__sample_weight': sample_weight for s in model.steps}\n",
            "model.fit(X, y, **kwargs)\n",
            "\n",
            "Set parameter alpha to: original_alpha * n_samples. \n",
            "  FutureWarning,\n",
            "/usr/local/lib/python3.7/dist-packages/sklearn/linear_model/_base.py:155: FutureWarning: 'normalize' was deprecated in version 1.0 and will be removed in 1.2. Please leave the normalize parameter to its default value to silence this warning. The default behavior of this estimator is to not do any normalization. If normalization is needed please use sklearn.preprocessing.StandardScaler instead.\n",
            "  FutureWarning,\n",
            "/usr/local/lib/python3.7/dist-packages/sklearn/linear_model/_base.py:155: FutureWarning: 'normalize' was deprecated in version 1.0 and will be removed in 1.2. Please leave the normalize parameter to its default value to silence this warning. The default behavior of this estimator is to not do any normalization. If normalization is needed please use sklearn.preprocessing.StandardScaler instead.\n",
            "  FutureWarning,\n",
            "/usr/local/lib/python3.7/dist-packages/sklearn/linear_model/_base.py:155: FutureWarning: 'normalize' was deprecated in version 1.0 and will be removed in 1.2. Please leave the normalize parameter to its default value to silence this warning. The default behavior of this estimator is to not do any normalization. If normalization is needed please use sklearn.preprocessing.StandardScaler instead.\n",
            "  FutureWarning,\n",
            "/usr/local/lib/python3.7/dist-packages/sklearn/linear_model/_base.py:155: FutureWarning: 'normalize' was deprecated in version 1.0 and will be removed in 1.2. Please leave the normalize parameter to its default value to silence this warning. The default behavior of this estimator is to not do any normalization. If normalization is needed please use sklearn.preprocessing.StandardScaler instead.\n",
            "  FutureWarning,\n",
            "/usr/local/lib/python3.7/dist-packages/sklearn/linear_model/_base.py:145: FutureWarning: 'normalize' was deprecated in version 1.0 and will be removed in 1.2.\n",
            "If you wish to scale the data, use Pipeline with a StandardScaler in a preprocessing stage. To reproduce the previous behavior:\n",
            "\n",
            "from sklearn.pipeline import make_pipeline\n",
            "\n",
            "model = make_pipeline(StandardScaler(with_mean=False), Ridge())\n",
            "\n",
            "If you wish to pass a sample_weight parameter, you need to pass it as a fit parameter to each step of the pipeline as follows:\n",
            "\n",
            "kwargs = {s[0] + '__sample_weight': sample_weight for s in model.steps}\n",
            "model.fit(X, y, **kwargs)\n",
            "\n",
            "Set parameter alpha to: original_alpha * n_samples. \n",
            "  FutureWarning,\n",
            "/usr/local/lib/python3.7/dist-packages/sklearn/linear_model/_base.py:145: FutureWarning: 'normalize' was deprecated in version 1.0 and will be removed in 1.2.\n",
            "If you wish to scale the data, use Pipeline with a StandardScaler in a preprocessing stage. To reproduce the previous behavior:\n",
            "\n",
            "from sklearn.pipeline import make_pipeline\n",
            "\n",
            "model = make_pipeline(StandardScaler(with_mean=False), Ridge())\n",
            "\n",
            "If you wish to pass a sample_weight parameter, you need to pass it as a fit parameter to each step of the pipeline as follows:\n",
            "\n",
            "kwargs = {s[0] + '__sample_weight': sample_weight for s in model.steps}\n",
            "model.fit(X, y, **kwargs)\n",
            "\n",
            "Set parameter alpha to: original_alpha * n_samples. \n",
            "  FutureWarning,\n",
            "/usr/local/lib/python3.7/dist-packages/sklearn/linear_model/_base.py:145: FutureWarning: 'normalize' was deprecated in version 1.0 and will be removed in 1.2.\n",
            "If you wish to scale the data, use Pipeline with a StandardScaler in a preprocessing stage. To reproduce the previous behavior:\n",
            "\n",
            "from sklearn.pipeline import make_pipeline\n",
            "\n",
            "model = make_pipeline(StandardScaler(with_mean=False), Ridge())\n",
            "\n",
            "If you wish to pass a sample_weight parameter, you need to pass it as a fit parameter to each step of the pipeline as follows:\n",
            "\n",
            "kwargs = {s[0] + '__sample_weight': sample_weight for s in model.steps}\n",
            "model.fit(X, y, **kwargs)\n",
            "\n",
            "Set parameter alpha to: original_alpha * n_samples. \n",
            "  FutureWarning,\n",
            "/usr/local/lib/python3.7/dist-packages/sklearn/linear_model/_base.py:145: FutureWarning: 'normalize' was deprecated in version 1.0 and will be removed in 1.2.\n",
            "If you wish to scale the data, use Pipeline with a StandardScaler in a preprocessing stage. To reproduce the previous behavior:\n",
            "\n",
            "from sklearn.pipeline import make_pipeline\n",
            "\n",
            "model = make_pipeline(StandardScaler(with_mean=False), Ridge())\n",
            "\n",
            "If you wish to pass a sample_weight parameter, you need to pass it as a fit parameter to each step of the pipeline as follows:\n",
            "\n",
            "kwargs = {s[0] + '__sample_weight': sample_weight for s in model.steps}\n",
            "model.fit(X, y, **kwargs)\n",
            "\n",
            "Set parameter alpha to: original_alpha * n_samples. \n",
            "  FutureWarning,\n",
            "/usr/local/lib/python3.7/dist-packages/sklearn/linear_model/_base.py:155: FutureWarning: 'normalize' was deprecated in version 1.0 and will be removed in 1.2. Please leave the normalize parameter to its default value to silence this warning. The default behavior of this estimator is to not do any normalization. If normalization is needed please use sklearn.preprocessing.StandardScaler instead.\n",
            "  FutureWarning,\n",
            "/usr/local/lib/python3.7/dist-packages/sklearn/linear_model/_base.py:155: FutureWarning: 'normalize' was deprecated in version 1.0 and will be removed in 1.2. Please leave the normalize parameter to its default value to silence this warning. The default behavior of this estimator is to not do any normalization. If normalization is needed please use sklearn.preprocessing.StandardScaler instead.\n",
            "  FutureWarning,\n",
            "/usr/local/lib/python3.7/dist-packages/sklearn/linear_model/_base.py:155: FutureWarning: 'normalize' was deprecated in version 1.0 and will be removed in 1.2. Please leave the normalize parameter to its default value to silence this warning. The default behavior of this estimator is to not do any normalization. If normalization is needed please use sklearn.preprocessing.StandardScaler instead.\n",
            "  FutureWarning,\n",
            "/usr/local/lib/python3.7/dist-packages/sklearn/linear_model/_base.py:155: FutureWarning: 'normalize' was deprecated in version 1.0 and will be removed in 1.2. Please leave the normalize parameter to its default value to silence this warning. The default behavior of this estimator is to not do any normalization. If normalization is needed please use sklearn.preprocessing.StandardScaler instead.\n",
            "  FutureWarning,\n",
            "/usr/local/lib/python3.7/dist-packages/sklearn/linear_model/_base.py:145: FutureWarning: 'normalize' was deprecated in version 1.0 and will be removed in 1.2.\n",
            "If you wish to scale the data, use Pipeline with a StandardScaler in a preprocessing stage. To reproduce the previous behavior:\n",
            "\n",
            "from sklearn.pipeline import make_pipeline\n",
            "\n",
            "model = make_pipeline(StandardScaler(with_mean=False), Ridge())\n",
            "\n",
            "If you wish to pass a sample_weight parameter, you need to pass it as a fit parameter to each step of the pipeline as follows:\n",
            "\n",
            "kwargs = {s[0] + '__sample_weight': sample_weight for s in model.steps}\n",
            "model.fit(X, y, **kwargs)\n",
            "\n",
            "Set parameter alpha to: original_alpha * n_samples. \n",
            "  FutureWarning,\n",
            "/usr/local/lib/python3.7/dist-packages/sklearn/linear_model/_base.py:145: FutureWarning: 'normalize' was deprecated in version 1.0 and will be removed in 1.2.\n",
            "If you wish to scale the data, use Pipeline with a StandardScaler in a preprocessing stage. To reproduce the previous behavior:\n",
            "\n",
            "from sklearn.pipeline import make_pipeline\n",
            "\n",
            "model = make_pipeline(StandardScaler(with_mean=False), Ridge())\n",
            "\n",
            "If you wish to pass a sample_weight parameter, you need to pass it as a fit parameter to each step of the pipeline as follows:\n",
            "\n",
            "kwargs = {s[0] + '__sample_weight': sample_weight for s in model.steps}\n",
            "model.fit(X, y, **kwargs)\n",
            "\n",
            "Set parameter alpha to: original_alpha * n_samples. \n",
            "  FutureWarning,\n",
            "/usr/local/lib/python3.7/dist-packages/sklearn/linear_model/_base.py:145: FutureWarning: 'normalize' was deprecated in version 1.0 and will be removed in 1.2.\n",
            "If you wish to scale the data, use Pipeline with a StandardScaler in a preprocessing stage. To reproduce the previous behavior:\n",
            "\n",
            "from sklearn.pipeline import make_pipeline\n",
            "\n",
            "model = make_pipeline(StandardScaler(with_mean=False), Ridge())\n",
            "\n",
            "If you wish to pass a sample_weight parameter, you need to pass it as a fit parameter to each step of the pipeline as follows:\n",
            "\n",
            "kwargs = {s[0] + '__sample_weight': sample_weight for s in model.steps}\n",
            "model.fit(X, y, **kwargs)\n",
            "\n",
            "Set parameter alpha to: original_alpha * n_samples. \n",
            "  FutureWarning,\n",
            "/usr/local/lib/python3.7/dist-packages/sklearn/linear_model/_base.py:145: FutureWarning: 'normalize' was deprecated in version 1.0 and will be removed in 1.2.\n",
            "If you wish to scale the data, use Pipeline with a StandardScaler in a preprocessing stage. To reproduce the previous behavior:\n",
            "\n",
            "from sklearn.pipeline import make_pipeline\n",
            "\n",
            "model = make_pipeline(StandardScaler(with_mean=False), Ridge())\n",
            "\n",
            "If you wish to pass a sample_weight parameter, you need to pass it as a fit parameter to each step of the pipeline as follows:\n",
            "\n",
            "kwargs = {s[0] + '__sample_weight': sample_weight for s in model.steps}\n",
            "model.fit(X, y, **kwargs)\n",
            "\n",
            "Set parameter alpha to: original_alpha * n_samples. \n",
            "  FutureWarning,\n",
            "/usr/local/lib/python3.7/dist-packages/sklearn/linear_model/_base.py:155: FutureWarning: 'normalize' was deprecated in version 1.0 and will be removed in 1.2. Please leave the normalize parameter to its default value to silence this warning. The default behavior of this estimator is to not do any normalization. If normalization is needed please use sklearn.preprocessing.StandardScaler instead.\n",
            "  FutureWarning,\n",
            "/usr/local/lib/python3.7/dist-packages/sklearn/linear_model/_base.py:155: FutureWarning: 'normalize' was deprecated in version 1.0 and will be removed in 1.2. Please leave the normalize parameter to its default value to silence this warning. The default behavior of this estimator is to not do any normalization. If normalization is needed please use sklearn.preprocessing.StandardScaler instead.\n",
            "  FutureWarning,\n",
            "/usr/local/lib/python3.7/dist-packages/sklearn/linear_model/_base.py:155: FutureWarning: 'normalize' was deprecated in version 1.0 and will be removed in 1.2. Please leave the normalize parameter to its default value to silence this warning. The default behavior of this estimator is to not do any normalization. If normalization is needed please use sklearn.preprocessing.StandardScaler instead.\n",
            "  FutureWarning,\n",
            "/usr/local/lib/python3.7/dist-packages/sklearn/linear_model/_base.py:155: FutureWarning: 'normalize' was deprecated in version 1.0 and will be removed in 1.2. Please leave the normalize parameter to its default value to silence this warning. The default behavior of this estimator is to not do any normalization. If normalization is needed please use sklearn.preprocessing.StandardScaler instead.\n",
            "  FutureWarning,\n",
            "/usr/local/lib/python3.7/dist-packages/sklearn/linear_model/_base.py:145: FutureWarning: 'normalize' was deprecated in version 1.0 and will be removed in 1.2.\n",
            "If you wish to scale the data, use Pipeline with a StandardScaler in a preprocessing stage. To reproduce the previous behavior:\n",
            "\n",
            "from sklearn.pipeline import make_pipeline\n",
            "\n",
            "model = make_pipeline(StandardScaler(with_mean=False), Ridge())\n",
            "\n",
            "If you wish to pass a sample_weight parameter, you need to pass it as a fit parameter to each step of the pipeline as follows:\n",
            "\n",
            "kwargs = {s[0] + '__sample_weight': sample_weight for s in model.steps}\n",
            "model.fit(X, y, **kwargs)\n",
            "\n",
            "Set parameter alpha to: original_alpha * n_samples. \n",
            "  FutureWarning,\n",
            "/usr/local/lib/python3.7/dist-packages/sklearn/linear_model/_base.py:145: FutureWarning: 'normalize' was deprecated in version 1.0 and will be removed in 1.2.\n",
            "If you wish to scale the data, use Pipeline with a StandardScaler in a preprocessing stage. To reproduce the previous behavior:\n",
            "\n",
            "from sklearn.pipeline import make_pipeline\n",
            "\n",
            "model = make_pipeline(StandardScaler(with_mean=False), Ridge())\n",
            "\n",
            "If you wish to pass a sample_weight parameter, you need to pass it as a fit parameter to each step of the pipeline as follows:\n",
            "\n",
            "kwargs = {s[0] + '__sample_weight': sample_weight for s in model.steps}\n",
            "model.fit(X, y, **kwargs)\n",
            "\n",
            "Set parameter alpha to: original_alpha * n_samples. \n",
            "  FutureWarning,\n",
            "/usr/local/lib/python3.7/dist-packages/sklearn/linear_model/_base.py:145: FutureWarning: 'normalize' was deprecated in version 1.0 and will be removed in 1.2.\n",
            "If you wish to scale the data, use Pipeline with a StandardScaler in a preprocessing stage. To reproduce the previous behavior:\n",
            "\n",
            "from sklearn.pipeline import make_pipeline\n",
            "\n",
            "model = make_pipeline(StandardScaler(with_mean=False), Ridge())\n",
            "\n",
            "If you wish to pass a sample_weight parameter, you need to pass it as a fit parameter to each step of the pipeline as follows:\n",
            "\n",
            "kwargs = {s[0] + '__sample_weight': sample_weight for s in model.steps}\n",
            "model.fit(X, y, **kwargs)\n",
            "\n",
            "Set parameter alpha to: original_alpha * n_samples. \n",
            "  FutureWarning,\n",
            "/usr/local/lib/python3.7/dist-packages/sklearn/linear_model/_base.py:145: FutureWarning: 'normalize' was deprecated in version 1.0 and will be removed in 1.2.\n",
            "If you wish to scale the data, use Pipeline with a StandardScaler in a preprocessing stage. To reproduce the previous behavior:\n",
            "\n",
            "from sklearn.pipeline import make_pipeline\n",
            "\n",
            "model = make_pipeline(StandardScaler(with_mean=False), Ridge())\n",
            "\n",
            "If you wish to pass a sample_weight parameter, you need to pass it as a fit parameter to each step of the pipeline as follows:\n",
            "\n",
            "kwargs = {s[0] + '__sample_weight': sample_weight for s in model.steps}\n",
            "model.fit(X, y, **kwargs)\n",
            "\n",
            "Set parameter alpha to: original_alpha * n_samples. \n",
            "  FutureWarning,\n",
            "/usr/local/lib/python3.7/dist-packages/sklearn/linear_model/_base.py:155: FutureWarning: 'normalize' was deprecated in version 1.0 and will be removed in 1.2. Please leave the normalize parameter to its default value to silence this warning. The default behavior of this estimator is to not do any normalization. If normalization is needed please use sklearn.preprocessing.StandardScaler instead.\n",
            "  FutureWarning,\n",
            "/usr/local/lib/python3.7/dist-packages/sklearn/linear_model/_base.py:155: FutureWarning: 'normalize' was deprecated in version 1.0 and will be removed in 1.2. Please leave the normalize parameter to its default value to silence this warning. The default behavior of this estimator is to not do any normalization. If normalization is needed please use sklearn.preprocessing.StandardScaler instead.\n",
            "  FutureWarning,\n",
            "/usr/local/lib/python3.7/dist-packages/sklearn/linear_model/_base.py:155: FutureWarning: 'normalize' was deprecated in version 1.0 and will be removed in 1.2. Please leave the normalize parameter to its default value to silence this warning. The default behavior of this estimator is to not do any normalization. If normalization is needed please use sklearn.preprocessing.StandardScaler instead.\n",
            "  FutureWarning,\n",
            "/usr/local/lib/python3.7/dist-packages/sklearn/linear_model/_base.py:155: FutureWarning: 'normalize' was deprecated in version 1.0 and will be removed in 1.2. Please leave the normalize parameter to its default value to silence this warning. The default behavior of this estimator is to not do any normalization. If normalization is needed please use sklearn.preprocessing.StandardScaler instead.\n",
            "  FutureWarning,\n",
            "/usr/local/lib/python3.7/dist-packages/sklearn/linear_model/_base.py:145: FutureWarning: 'normalize' was deprecated in version 1.0 and will be removed in 1.2.\n",
            "If you wish to scale the data, use Pipeline with a StandardScaler in a preprocessing stage. To reproduce the previous behavior:\n",
            "\n",
            "from sklearn.pipeline import make_pipeline\n",
            "\n",
            "model = make_pipeline(StandardScaler(with_mean=False), Ridge())\n",
            "\n",
            "If you wish to pass a sample_weight parameter, you need to pass it as a fit parameter to each step of the pipeline as follows:\n",
            "\n",
            "kwargs = {s[0] + '__sample_weight': sample_weight for s in model.steps}\n",
            "model.fit(X, y, **kwargs)\n",
            "\n",
            "Set parameter alpha to: original_alpha * n_samples. \n",
            "  FutureWarning,\n",
            "/usr/local/lib/python3.7/dist-packages/sklearn/linear_model/_base.py:145: FutureWarning: 'normalize' was deprecated in version 1.0 and will be removed in 1.2.\n",
            "If you wish to scale the data, use Pipeline with a StandardScaler in a preprocessing stage. To reproduce the previous behavior:\n",
            "\n",
            "from sklearn.pipeline import make_pipeline\n",
            "\n",
            "model = make_pipeline(StandardScaler(with_mean=False), Ridge())\n",
            "\n",
            "If you wish to pass a sample_weight parameter, you need to pass it as a fit parameter to each step of the pipeline as follows:\n",
            "\n",
            "kwargs = {s[0] + '__sample_weight': sample_weight for s in model.steps}\n",
            "model.fit(X, y, **kwargs)\n",
            "\n",
            "Set parameter alpha to: original_alpha * n_samples. \n",
            "  FutureWarning,\n",
            "/usr/local/lib/python3.7/dist-packages/sklearn/linear_model/_base.py:145: FutureWarning: 'normalize' was deprecated in version 1.0 and will be removed in 1.2.\n",
            "If you wish to scale the data, use Pipeline with a StandardScaler in a preprocessing stage. To reproduce the previous behavior:\n",
            "\n",
            "from sklearn.pipeline import make_pipeline\n",
            "\n",
            "model = make_pipeline(StandardScaler(with_mean=False), Ridge())\n",
            "\n",
            "If you wish to pass a sample_weight parameter, you need to pass it as a fit parameter to each step of the pipeline as follows:\n",
            "\n",
            "kwargs = {s[0] + '__sample_weight': sample_weight for s in model.steps}\n",
            "model.fit(X, y, **kwargs)\n",
            "\n",
            "Set parameter alpha to: original_alpha * n_samples. \n",
            "  FutureWarning,\n",
            "/usr/local/lib/python3.7/dist-packages/sklearn/linear_model/_base.py:145: FutureWarning: 'normalize' was deprecated in version 1.0 and will be removed in 1.2.\n",
            "If you wish to scale the data, use Pipeline with a StandardScaler in a preprocessing stage. To reproduce the previous behavior:\n",
            "\n",
            "from sklearn.pipeline import make_pipeline\n",
            "\n",
            "model = make_pipeline(StandardScaler(with_mean=False), Ridge())\n",
            "\n",
            "If you wish to pass a sample_weight parameter, you need to pass it as a fit parameter to each step of the pipeline as follows:\n",
            "\n",
            "kwargs = {s[0] + '__sample_weight': sample_weight for s in model.steps}\n",
            "model.fit(X, y, **kwargs)\n",
            "\n",
            "Set parameter alpha to: original_alpha * n_samples. \n",
            "  FutureWarning,\n",
            "/usr/local/lib/python3.7/dist-packages/sklearn/linear_model/_base.py:155: FutureWarning: 'normalize' was deprecated in version 1.0 and will be removed in 1.2. Please leave the normalize parameter to its default value to silence this warning. The default behavior of this estimator is to not do any normalization. If normalization is needed please use sklearn.preprocessing.StandardScaler instead.\n",
            "  FutureWarning,\n",
            "/usr/local/lib/python3.7/dist-packages/sklearn/linear_model/_base.py:155: FutureWarning: 'normalize' was deprecated in version 1.0 and will be removed in 1.2. Please leave the normalize parameter to its default value to silence this warning. The default behavior of this estimator is to not do any normalization. If normalization is needed please use sklearn.preprocessing.StandardScaler instead.\n",
            "  FutureWarning,\n",
            "/usr/local/lib/python3.7/dist-packages/sklearn/linear_model/_base.py:155: FutureWarning: 'normalize' was deprecated in version 1.0 and will be removed in 1.2. Please leave the normalize parameter to its default value to silence this warning. The default behavior of this estimator is to not do any normalization. If normalization is needed please use sklearn.preprocessing.StandardScaler instead.\n",
            "  FutureWarning,\n",
            "/usr/local/lib/python3.7/dist-packages/sklearn/linear_model/_base.py:155: FutureWarning: 'normalize' was deprecated in version 1.0 and will be removed in 1.2. Please leave the normalize parameter to its default value to silence this warning. The default behavior of this estimator is to not do any normalization. If normalization is needed please use sklearn.preprocessing.StandardScaler instead.\n",
            "  FutureWarning,\n",
            "/usr/local/lib/python3.7/dist-packages/sklearn/linear_model/_base.py:145: FutureWarning: 'normalize' was deprecated in version 1.0 and will be removed in 1.2.\n",
            "If you wish to scale the data, use Pipeline with a StandardScaler in a preprocessing stage. To reproduce the previous behavior:\n",
            "\n",
            "from sklearn.pipeline import make_pipeline\n",
            "\n",
            "model = make_pipeline(StandardScaler(with_mean=False), Ridge())\n",
            "\n",
            "If you wish to pass a sample_weight parameter, you need to pass it as a fit parameter to each step of the pipeline as follows:\n",
            "\n",
            "kwargs = {s[0] + '__sample_weight': sample_weight for s in model.steps}\n",
            "model.fit(X, y, **kwargs)\n",
            "\n",
            "Set parameter alpha to: original_alpha * n_samples. \n",
            "  FutureWarning,\n"
          ]
        },
        {
          "output_type": "execute_result",
          "data": {
            "text/plain": [
              "Ridge(alpha=0.1, normalize=True)"
            ]
          },
          "metadata": {},
          "execution_count": 113
        }
      ]
    },
    {
      "cell_type": "markdown",
      "metadata": {
        "id": "Od-XbpbqWCKv"
      },
      "source": [
        "<details><summary>Click here for the solution</summary>\n",
        "\n",
        "```python\n",
        "parameters2= [{'alpha': [0.001,0.1,1, 10, 100, 1000,10000,100000,100000],'normalize':[True,False]} ]\n",
        "Grid2 = GridSearchCV(Ridge(), parameters2,cv=4)\n",
        "Grid2.fit(x_data[['horsepower', 'curb-weight', 'engine-size', 'highway-mpg']],y_data)\n",
        "Grid2.best_estimator_\n",
        "\n",
        "\n",
        "```\n",
        "\n",
        "</details>\n"
      ]
    },
    {
      "cell_type": "markdown",
      "metadata": {
        "id": "gEJDjZU1WCKv"
      },
      "source": [
        "### Thank you for completing this lab!\n",
        "\n",
        "## Author\n",
        "\n",
        "<a href=\"https://www.linkedin.com/in/joseph-s-50398b136/?utm_medium=Exinfluencer&utm_source=Exinfluencer&utm_content=000026UJ&utm_term=10006555&utm_id=NA-SkillsNetwork-Channel-SkillsNetworkCoursesIBMDeveloperSkillsNetworkDA0101ENSkillsNetwork20235326-2021-01-01\" target=\"_blank\">Joseph Santarcangelo</a>\n",
        "\n",
        "### Other Contributors\n",
        "\n",
        "<a href=\"https://www.linkedin.com/in/mahdi-noorian-58219234/?utm_medium=Exinfluencer&utm_source=Exinfluencer&utm_content=000026UJ&utm_term=10006555&utm_id=NA-SkillsNetwork-Channel-SkillsNetworkCoursesIBMDeveloperSkillsNetworkDA0101ENSkillsNetwork20235326-2021-01-01\" target=\"_blank\">Mahdi Noorian PhD</a>\n",
        "\n",
        "Bahare Talayian\n",
        "\n",
        "Eric Xiao\n",
        "\n",
        "Steven Dong\n",
        "\n",
        "Parizad\n",
        "\n",
        "Hima Vasudevan\n",
        "\n",
        "<a href=\"https://www.linkedin.com/in/fiorellawever/?utm_medium=Exinfluencer&utm_source=Exinfluencer&utm_content=000026UJ&utm_term=10006555&utm_id=NA-SkillsNetwork-Channel-SkillsNetworkCoursesIBMDeveloperSkillsNetworkDA0101ENSkillsNetwork20235326-2021-01-01\" target=\"_blank\">Fiorella Wenver</a>\n",
        "\n",
        "<a href=\"https:// https://www.linkedin.com/in/yi-leng-yao-84451275/ \" target=\"_blank\" >Yi Yao</a>.\n",
        "\n",
        "## Change Log\n",
        "\n",
        "| Date (YYYY-MM-DD) | Version | Changed By | Change Description                  |\n",
        "| ----------------- | ------- | ---------- | ----------------------------------- |\n",
        "| 2020-10-30        | 2.3     | Lakshmi    | Changed URL of csv                  |\n",
        "| 2020-10-05        | 2.2     | Lakshmi    | Removed unused library imports      |\n",
        "| 2020-09-14        | 2.1     | Lakshmi    | Made changes in OverFitting section |\n",
        "| 2020-08-27        | 2.0     | Lavanya    | Moved lab to course repo in GitLab  |\n",
        "\n",
        "<hr>\n",
        "\n",
        "## <h3 align=\"center\"> © IBM Corporation 2020. All rights reserved. <h3/>\n"
      ]
    }
  ],
  "metadata": {
    "anaconda-cloud": {},
    "kernelspec": {
      "display_name": "Python 3",
      "language": "python",
      "name": "python3"
    },
    "language_info": {
      "codemirror_mode": {
        "name": "ipython",
        "version": 3
      },
      "file_extension": ".py",
      "mimetype": "text/x-python",
      "name": "python",
      "nbconvert_exporter": "python",
      "pygments_lexer": "ipython3",
      "version": "3.8.8"
    },
    "metadata": {
      "interpreter": {
        "hash": "ac2eaa0ea0ebeafcc7822e65e46aa9d4f966f30b695406963e145ea4a91cd4fc"
      }
    },
    "colab": {
      "name": "05_Review-Model-Evaluation-and-Refinement.ipynb",
      "provenance": [],
      "include_colab_link": true
    },
    "widgets": {
      "application/vnd.jupyter.widget-state+json": {
        "36e4c2247ad64c00b0d3ad63623133f8": {
          "model_module": "@jupyter-widgets/controls",
          "model_name": "VBoxModel",
          "model_module_version": "1.5.0",
          "state": {
            "_dom_classes": [
              "widget-interact"
            ],
            "_model_module": "@jupyter-widgets/controls",
            "_model_module_version": "1.5.0",
            "_model_name": "VBoxModel",
            "_view_count": null,
            "_view_module": "@jupyter-widgets/controls",
            "_view_module_version": "1.5.0",
            "_view_name": "VBoxView",
            "box_style": "",
            "children": [
              "IPY_MODEL_e258ccf4f50d4a079174fded455fca8f",
              "IPY_MODEL_2d5c9b3c61724eff8aaa118b03d4bdd4",
              "IPY_MODEL_239bc13632a94d92b5d31d6193915bcf"
            ],
            "layout": "IPY_MODEL_07064a93f265490ebac61992b5885551"
          }
        },
        "e258ccf4f50d4a079174fded455fca8f": {
          "model_module": "@jupyter-widgets/controls",
          "model_name": "IntSliderModel",
          "model_module_version": "1.5.0",
          "state": {
            "_dom_classes": [],
            "_model_module": "@jupyter-widgets/controls",
            "_model_module_version": "1.5.0",
            "_model_name": "IntSliderModel",
            "_view_count": null,
            "_view_module": "@jupyter-widgets/controls",
            "_view_module_version": "1.5.0",
            "_view_name": "IntSliderView",
            "continuous_update": true,
            "description": "order",
            "description_tooltip": null,
            "disabled": false,
            "layout": "IPY_MODEL_775d53d720144d56a5fe284ad5758fba",
            "max": 6,
            "min": 0,
            "orientation": "horizontal",
            "readout": true,
            "readout_format": "d",
            "step": 1,
            "style": "IPY_MODEL_c0fe4153ee99418aa26e05cfffb992e4",
            "value": 5
          }
        },
        "2d5c9b3c61724eff8aaa118b03d4bdd4": {
          "model_module": "@jupyter-widgets/controls",
          "model_name": "FloatSliderModel",
          "model_module_version": "1.5.0",
          "state": {
            "_dom_classes": [],
            "_model_module": "@jupyter-widgets/controls",
            "_model_module_version": "1.5.0",
            "_model_name": "FloatSliderModel",
            "_view_count": null,
            "_view_module": "@jupyter-widgets/controls",
            "_view_module_version": "1.5.0",
            "_view_name": "FloatSliderView",
            "continuous_update": true,
            "description": "test_data",
            "description_tooltip": null,
            "disabled": false,
            "layout": "IPY_MODEL_1cef5ad04f00449e87ec20ed08c9c031",
            "max": 0.95,
            "min": 0.05,
            "orientation": "horizontal",
            "readout": true,
            "readout_format": ".2f",
            "step": 0.05,
            "style": "IPY_MODEL_aa75ed7f5a414d5ba238e5abb177fa40",
            "value": 0.2
          }
        },
        "239bc13632a94d92b5d31d6193915bcf": {
          "model_module": "@jupyter-widgets/output",
          "model_name": "OutputModel",
          "model_module_version": "1.0.0",
          "state": {
            "_dom_classes": [],
            "_model_module": "@jupyter-widgets/output",
            "_model_module_version": "1.0.0",
            "_model_name": "OutputModel",
            "_view_count": null,
            "_view_module": "@jupyter-widgets/output",
            "_view_module_version": "1.0.0",
            "_view_name": "OutputView",
            "layout": "IPY_MODEL_1ff347bddf6a468d90938e56438dff0b",
            "msg_id": "",
            "outputs": [
              {
                "output_type": "display_data",
                "data": {
                  "text/plain": "<Figure size 864x720 with 1 Axes>",
                  "image/png": "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\n"
                },
                "metadata": {
                  "needs_background": "light"
                }
              }
            ]
          }
        },
        "07064a93f265490ebac61992b5885551": {
          "model_module": "@jupyter-widgets/base",
          "model_name": "LayoutModel",
          "model_module_version": "1.2.0",
          "state": {
            "_model_module": "@jupyter-widgets/base",
            "_model_module_version": "1.2.0",
            "_model_name": "LayoutModel",
            "_view_count": null,
            "_view_module": "@jupyter-widgets/base",
            "_view_module_version": "1.2.0",
            "_view_name": "LayoutView",
            "align_content": null,
            "align_items": null,
            "align_self": null,
            "border": null,
            "bottom": null,
            "display": null,
            "flex": null,
            "flex_flow": null,
            "grid_area": null,
            "grid_auto_columns": null,
            "grid_auto_flow": null,
            "grid_auto_rows": null,
            "grid_column": null,
            "grid_gap": null,
            "grid_row": null,
            "grid_template_areas": null,
            "grid_template_columns": null,
            "grid_template_rows": null,
            "height": null,
            "justify_content": null,
            "justify_items": null,
            "left": null,
            "margin": null,
            "max_height": null,
            "max_width": null,
            "min_height": null,
            "min_width": null,
            "object_fit": null,
            "object_position": null,
            "order": null,
            "overflow": null,
            "overflow_x": null,
            "overflow_y": null,
            "padding": null,
            "right": null,
            "top": null,
            "visibility": null,
            "width": null
          }
        },
        "775d53d720144d56a5fe284ad5758fba": {
          "model_module": "@jupyter-widgets/base",
          "model_name": "LayoutModel",
          "model_module_version": "1.2.0",
          "state": {
            "_model_module": "@jupyter-widgets/base",
            "_model_module_version": "1.2.0",
            "_model_name": "LayoutModel",
            "_view_count": null,
            "_view_module": "@jupyter-widgets/base",
            "_view_module_version": "1.2.0",
            "_view_name": "LayoutView",
            "align_content": null,
            "align_items": null,
            "align_self": null,
            "border": null,
            "bottom": null,
            "display": null,
            "flex": null,
            "flex_flow": null,
            "grid_area": null,
            "grid_auto_columns": null,
            "grid_auto_flow": null,
            "grid_auto_rows": null,
            "grid_column": null,
            "grid_gap": null,
            "grid_row": null,
            "grid_template_areas": null,
            "grid_template_columns": null,
            "grid_template_rows": null,
            "height": null,
            "justify_content": null,
            "justify_items": null,
            "left": null,
            "margin": null,
            "max_height": null,
            "max_width": null,
            "min_height": null,
            "min_width": null,
            "object_fit": null,
            "object_position": null,
            "order": null,
            "overflow": null,
            "overflow_x": null,
            "overflow_y": null,
            "padding": null,
            "right": null,
            "top": null,
            "visibility": null,
            "width": null
          }
        },
        "c0fe4153ee99418aa26e05cfffb992e4": {
          "model_module": "@jupyter-widgets/controls",
          "model_name": "SliderStyleModel",
          "model_module_version": "1.5.0",
          "state": {
            "_model_module": "@jupyter-widgets/controls",
            "_model_module_version": "1.5.0",
            "_model_name": "SliderStyleModel",
            "_view_count": null,
            "_view_module": "@jupyter-widgets/base",
            "_view_module_version": "1.2.0",
            "_view_name": "StyleView",
            "description_width": "",
            "handle_color": null
          }
        },
        "1cef5ad04f00449e87ec20ed08c9c031": {
          "model_module": "@jupyter-widgets/base",
          "model_name": "LayoutModel",
          "model_module_version": "1.2.0",
          "state": {
            "_model_module": "@jupyter-widgets/base",
            "_model_module_version": "1.2.0",
            "_model_name": "LayoutModel",
            "_view_count": null,
            "_view_module": "@jupyter-widgets/base",
            "_view_module_version": "1.2.0",
            "_view_name": "LayoutView",
            "align_content": null,
            "align_items": null,
            "align_self": null,
            "border": null,
            "bottom": null,
            "display": null,
            "flex": null,
            "flex_flow": null,
            "grid_area": null,
            "grid_auto_columns": null,
            "grid_auto_flow": null,
            "grid_auto_rows": null,
            "grid_column": null,
            "grid_gap": null,
            "grid_row": null,
            "grid_template_areas": null,
            "grid_template_columns": null,
            "grid_template_rows": null,
            "height": null,
            "justify_content": null,
            "justify_items": null,
            "left": null,
            "margin": null,
            "max_height": null,
            "max_width": null,
            "min_height": null,
            "min_width": null,
            "object_fit": null,
            "object_position": null,
            "order": null,
            "overflow": null,
            "overflow_x": null,
            "overflow_y": null,
            "padding": null,
            "right": null,
            "top": null,
            "visibility": null,
            "width": null
          }
        },
        "aa75ed7f5a414d5ba238e5abb177fa40": {
          "model_module": "@jupyter-widgets/controls",
          "model_name": "SliderStyleModel",
          "model_module_version": "1.5.0",
          "state": {
            "_model_module": "@jupyter-widgets/controls",
            "_model_module_version": "1.5.0",
            "_model_name": "SliderStyleModel",
            "_view_count": null,
            "_view_module": "@jupyter-widgets/base",
            "_view_module_version": "1.2.0",
            "_view_name": "StyleView",
            "description_width": "",
            "handle_color": null
          }
        },
        "1ff347bddf6a468d90938e56438dff0b": {
          "model_module": "@jupyter-widgets/base",
          "model_name": "LayoutModel",
          "model_module_version": "1.2.0",
          "state": {
            "_model_module": "@jupyter-widgets/base",
            "_model_module_version": "1.2.0",
            "_model_name": "LayoutModel",
            "_view_count": null,
            "_view_module": "@jupyter-widgets/base",
            "_view_module_version": "1.2.0",
            "_view_name": "LayoutView",
            "align_content": null,
            "align_items": null,
            "align_self": null,
            "border": null,
            "bottom": null,
            "display": null,
            "flex": null,
            "flex_flow": null,
            "grid_area": null,
            "grid_auto_columns": null,
            "grid_auto_flow": null,
            "grid_auto_rows": null,
            "grid_column": null,
            "grid_gap": null,
            "grid_row": null,
            "grid_template_areas": null,
            "grid_template_columns": null,
            "grid_template_rows": null,
            "height": null,
            "justify_content": null,
            "justify_items": null,
            "left": null,
            "margin": null,
            "max_height": null,
            "max_width": null,
            "min_height": null,
            "min_width": null,
            "object_fit": null,
            "object_position": null,
            "order": null,
            "overflow": null,
            "overflow_x": null,
            "overflow_y": null,
            "padding": null,
            "right": null,
            "top": null,
            "visibility": null,
            "width": null
          }
        }
      }
    }
  },
  "nbformat": 4,
  "nbformat_minor": 0
}